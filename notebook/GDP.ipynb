{
 "cells": [
  {
   "cell_type": "markdown",
   "id": "c4c382f7",
   "metadata": {},
   "source": [
    "3. Import the required packages with their customary aliases as follows"
   ]
  },
  {
   "cell_type": "code",
   "execution_count": 50,
   "id": "636171d6",
   "metadata": {},
   "outputs": [],
   "source": [
    "import pandas as pd\n",
    "import numpy as np\n",
    "import matplotlib.pyplot as plt \n",
    "import seaborn as sns"
   ]
  },
  {
   "cell_type": "markdown",
   "id": "5c542c28",
   "metadata": {},
   "source": [
    "4. Use the %matplotlib inline magic command so that your plots show in the notebook without having to call plt.show() every time"
   ]
  },
  {
   "cell_type": "code",
   "execution_count": 51,
   "id": "67682c07",
   "metadata": {},
   "outputs": [],
   "source": [
    "%matplotlib inline"
   ]
  },
  {
   "cell_type": "markdown",
   "id": "f89d9185",
   "metadata": {},
   "source": [
    "5. Using the pandas read_csv() method, read the GDP dataset into your notebook as a DataFrame called gdp_df. Take a look at the first 6 rows"
   ]
  },
  {
   "cell_type": "code",
   "execution_count": 52,
   "id": "fbaf137c",
   "metadata": {},
   "outputs": [],
   "source": [
    "gdp_df = pd.read_csv('data/gdp_percapita.csv', nrows = 6868)"
   ]
  },
  {
   "cell_type": "code",
   "execution_count": 53,
   "id": "18f9cd29",
   "metadata": {},
   "outputs": [
    {
     "data": {
      "text/html": [
       "<div>\n",
       "<style scoped>\n",
       "    .dataframe tbody tr th:only-of-type {\n",
       "        vertical-align: middle;\n",
       "    }\n",
       "\n",
       "    .dataframe tbody tr th {\n",
       "        vertical-align: top;\n",
       "    }\n",
       "\n",
       "    .dataframe thead th {\n",
       "        text-align: right;\n",
       "    }\n",
       "</style>\n",
       "<table border=\"1\" class=\"dataframe\">\n",
       "  <thead>\n",
       "    <tr style=\"text-align: right;\">\n",
       "      <th></th>\n",
       "      <th>Country or Area</th>\n",
       "      <th>Year</th>\n",
       "      <th>Value</th>\n",
       "      <th>Value Footnotes</th>\n",
       "    </tr>\n",
       "  </thead>\n",
       "  <tbody>\n",
       "    <tr>\n",
       "      <th>0</th>\n",
       "      <td>Afghanistan</td>\n",
       "      <td>2020</td>\n",
       "      <td>1970.560169</td>\n",
       "      <td>NaN</td>\n",
       "    </tr>\n",
       "    <tr>\n",
       "      <th>1</th>\n",
       "      <td>Afghanistan</td>\n",
       "      <td>2019</td>\n",
       "      <td>2065.036235</td>\n",
       "      <td>NaN</td>\n",
       "    </tr>\n",
       "    <tr>\n",
       "      <th>2</th>\n",
       "      <td>Afghanistan</td>\n",
       "      <td>2018</td>\n",
       "      <td>2033.804389</td>\n",
       "      <td>NaN</td>\n",
       "    </tr>\n",
       "    <tr>\n",
       "      <th>3</th>\n",
       "      <td>Afghanistan</td>\n",
       "      <td>2017</td>\n",
       "      <td>2058.400221</td>\n",
       "      <td>NaN</td>\n",
       "    </tr>\n",
       "    <tr>\n",
       "      <th>4</th>\n",
       "      <td>Afghanistan</td>\n",
       "      <td>2016</td>\n",
       "      <td>2057.067978</td>\n",
       "      <td>NaN</td>\n",
       "    </tr>\n",
       "    <tr>\n",
       "      <th>...</th>\n",
       "      <td>...</td>\n",
       "      <td>...</td>\n",
       "      <td>...</td>\n",
       "      <td>...</td>\n",
       "    </tr>\n",
       "    <tr>\n",
       "      <th>6863</th>\n",
       "      <td>United Kingdom</td>\n",
       "      <td>1996</td>\n",
       "      <td>34099.316578</td>\n",
       "      <td>NaN</td>\n",
       "    </tr>\n",
       "    <tr>\n",
       "      <th>6864</th>\n",
       "      <td>United Kingdom</td>\n",
       "      <td>1995</td>\n",
       "      <td>33375.709644</td>\n",
       "      <td>NaN</td>\n",
       "    </tr>\n",
       "    <tr>\n",
       "      <th>6865</th>\n",
       "      <td>United Kingdom</td>\n",
       "      <td>1994</td>\n",
       "      <td>32637.838742</td>\n",
       "      <td>NaN</td>\n",
       "    </tr>\n",
       "    <tr>\n",
       "      <th>6866</th>\n",
       "      <td>United Kingdom</td>\n",
       "      <td>1993</td>\n",
       "      <td>31509.189800</td>\n",
       "      <td>NaN</td>\n",
       "    </tr>\n",
       "    <tr>\n",
       "      <th>6867</th>\n",
       "      <td>United Kingdom</td>\n",
       "      <td>1992</td>\n",
       "      <td>30817.518156</td>\n",
       "      <td>NaN</td>\n",
       "    </tr>\n",
       "  </tbody>\n",
       "</table>\n",
       "<p>6868 rows × 4 columns</p>\n",
       "</div>"
      ],
      "text/plain": [
       "     Country or Area  Year         Value  Value Footnotes\n",
       "0        Afghanistan  2020   1970.560169              NaN\n",
       "1        Afghanistan  2019   2065.036235              NaN\n",
       "2        Afghanistan  2018   2033.804389              NaN\n",
       "3        Afghanistan  2017   2058.400221              NaN\n",
       "4        Afghanistan  2016   2057.067978              NaN\n",
       "...              ...   ...           ...              ...\n",
       "6863  United Kingdom  1996  34099.316578              NaN\n",
       "6864  United Kingdom  1995  33375.709644              NaN\n",
       "6865  United Kingdom  1994  32637.838742              NaN\n",
       "6866  United Kingdom  1993  31509.189800              NaN\n",
       "6867  United Kingdom  1992  30817.518156              NaN\n",
       "\n",
       "[6868 rows x 4 columns]"
      ]
     },
     "execution_count": 53,
     "metadata": {},
     "output_type": "execute_result"
    }
   ],
   "source": [
    "gdp_df"
   ]
  },
  {
   "cell_type": "markdown",
   "id": "d73aafa8",
   "metadata": {},
   "source": [
    "6. Repeat for the internet use dataset. Call this DataFrame internet_df. Take a look at the first six rows"
   ]
  },
  {
   "cell_type": "code",
   "execution_count": 54,
   "id": "e8f7e4e9",
   "metadata": {},
   "outputs": [],
   "source": [
    "gdp_df = pd.read_csv('data/gdp_percapita.csv', nrows = 6868)"
   ]
  },
  {
   "cell_type": "code",
   "execution_count": 55,
   "id": "9b18550f",
   "metadata": {},
   "outputs": [
    {
     "data": {
      "text/html": [
       "<div>\n",
       "<style scoped>\n",
       "    .dataframe tbody tr th:only-of-type {\n",
       "        vertical-align: middle;\n",
       "    }\n",
       "\n",
       "    .dataframe tbody tr th {\n",
       "        vertical-align: top;\n",
       "    }\n",
       "\n",
       "    .dataframe thead th {\n",
       "        text-align: right;\n",
       "    }\n",
       "</style>\n",
       "<table border=\"1\" class=\"dataframe\">\n",
       "  <thead>\n",
       "    <tr style=\"text-align: right;\">\n",
       "      <th></th>\n",
       "      <th>Country or Area</th>\n",
       "      <th>Year</th>\n",
       "      <th>Value</th>\n",
       "      <th>Value Footnotes</th>\n",
       "    </tr>\n",
       "  </thead>\n",
       "  <tbody>\n",
       "    <tr>\n",
       "      <th>0</th>\n",
       "      <td>Afghanistan</td>\n",
       "      <td>2020</td>\n",
       "      <td>1970.560169</td>\n",
       "      <td>NaN</td>\n",
       "    </tr>\n",
       "    <tr>\n",
       "      <th>1</th>\n",
       "      <td>Afghanistan</td>\n",
       "      <td>2019</td>\n",
       "      <td>2065.036235</td>\n",
       "      <td>NaN</td>\n",
       "    </tr>\n",
       "    <tr>\n",
       "      <th>2</th>\n",
       "      <td>Afghanistan</td>\n",
       "      <td>2018</td>\n",
       "      <td>2033.804389</td>\n",
       "      <td>NaN</td>\n",
       "    </tr>\n",
       "    <tr>\n",
       "      <th>3</th>\n",
       "      <td>Afghanistan</td>\n",
       "      <td>2017</td>\n",
       "      <td>2058.400221</td>\n",
       "      <td>NaN</td>\n",
       "    </tr>\n",
       "    <tr>\n",
       "      <th>4</th>\n",
       "      <td>Afghanistan</td>\n",
       "      <td>2016</td>\n",
       "      <td>2057.067978</td>\n",
       "      <td>NaN</td>\n",
       "    </tr>\n",
       "    <tr>\n",
       "      <th>5</th>\n",
       "      <td>Afghanistan</td>\n",
       "      <td>2015</td>\n",
       "      <td>2068.265904</td>\n",
       "      <td>NaN</td>\n",
       "    </tr>\n",
       "  </tbody>\n",
       "</table>\n",
       "</div>"
      ],
      "text/plain": [
       "  Country or Area  Year        Value  Value Footnotes\n",
       "0     Afghanistan  2020  1970.560169              NaN\n",
       "1     Afghanistan  2019  2065.036235              NaN\n",
       "2     Afghanistan  2018  2033.804389              NaN\n",
       "3     Afghanistan  2017  2058.400221              NaN\n",
       "4     Afghanistan  2016  2057.067978              NaN\n",
       "5     Afghanistan  2015  2068.265904              NaN"
      ]
     },
     "execution_count": 55,
     "metadata": {},
     "output_type": "execute_result"
    }
   ],
   "source": [
    "gdp_df.head(6)"
   ]
  },
  {
   "cell_type": "code",
   "execution_count": 70,
   "id": "90317ba5",
   "metadata": {},
   "outputs": [],
   "source": [
    "internet_df = pd.read_csv('data/internet_use.csv')"
   ]
  },
  {
   "cell_type": "code",
   "execution_count": 64,
   "id": "232f315b",
   "metadata": {},
   "outputs": [
    {
     "name": "stdout",
     "output_type": "stream",
     "text": [
      "GDP project.ipynb           \u001b[34mUntitled Folder\u001b[m\u001b[m/\r\n",
      "GDP.ipynb                   \u001b[34mdata\u001b[m\u001b[m/\r\n",
      "README.md                   internet_gdp_key (2).ipynb\r\n"
     ]
    }
   ],
   "source": [
    "ls"
   ]
  },
  {
   "cell_type": "code",
   "execution_count": 67,
   "id": "65d3bb51",
   "metadata": {},
   "outputs": [
    {
     "name": "stdout",
     "output_type": "stream",
     "text": [
      "gdp_percapita.csv  internet_use.csv\r\n"
     ]
    }
   ],
   "source": [
    "ls data"
   ]
  },
  {
   "cell_type": "code",
   "execution_count": 71,
   "id": "577434bf",
   "metadata": {},
   "outputs": [
    {
     "data": {
      "text/html": [
       "<div>\n",
       "<style scoped>\n",
       "    .dataframe tbody tr th:only-of-type {\n",
       "        vertical-align: middle;\n",
       "    }\n",
       "\n",
       "    .dataframe tbody tr th {\n",
       "        vertical-align: top;\n",
       "    }\n",
       "\n",
       "    .dataframe thead th {\n",
       "        text-align: right;\n",
       "    }\n",
       "</style>\n",
       "<table border=\"1\" class=\"dataframe\">\n",
       "  <thead>\n",
       "    <tr style=\"text-align: right;\">\n",
       "      <th></th>\n",
       "      <th>Country or Area</th>\n",
       "      <th>Year</th>\n",
       "      <th>Value</th>\n",
       "      <th>Value Footnotes</th>\n",
       "      <th>Unnamed: 4</th>\n",
       "      <th>Unnamed: 5</th>\n",
       "    </tr>\n",
       "  </thead>\n",
       "  <tbody>\n",
       "    <tr>\n",
       "      <th>0</th>\n",
       "      <td>Afghanistan</td>\n",
       "      <td>2014</td>\n",
       "      <td>6.39</td>\n",
       "      <td>NaN</td>\n",
       "      <td>NaN</td>\n",
       "      <td>NaN</td>\n",
       "    </tr>\n",
       "    <tr>\n",
       "      <th>1</th>\n",
       "      <td>Afghanistan</td>\n",
       "      <td>2013</td>\n",
       "      <td>5.9</td>\n",
       "      <td>NaN</td>\n",
       "      <td>NaN</td>\n",
       "      <td>NaN</td>\n",
       "    </tr>\n",
       "    <tr>\n",
       "      <th>2</th>\n",
       "      <td>Afghanistan</td>\n",
       "      <td>2012</td>\n",
       "      <td>5.454545455</td>\n",
       "      <td>NaN</td>\n",
       "      <td>NaN</td>\n",
       "      <td>NaN</td>\n",
       "    </tr>\n",
       "    <tr>\n",
       "      <th>3</th>\n",
       "      <td>Afghanistan</td>\n",
       "      <td>2011</td>\n",
       "      <td>5</td>\n",
       "      <td>NaN</td>\n",
       "      <td>NaN</td>\n",
       "      <td>NaN</td>\n",
       "    </tr>\n",
       "    <tr>\n",
       "      <th>4</th>\n",
       "      <td>Afghanistan</td>\n",
       "      <td>2010</td>\n",
       "      <td>4</td>\n",
       "      <td>NaN</td>\n",
       "      <td>NaN</td>\n",
       "      <td>NaN</td>\n",
       "    </tr>\n",
       "    <tr>\n",
       "      <th>...</th>\n",
       "      <td>...</td>\n",
       "      <td>...</td>\n",
       "      <td>...</td>\n",
       "      <td>...</td>\n",
       "      <td>...</td>\n",
       "      <td>...</td>\n",
       "    </tr>\n",
       "    <tr>\n",
       "      <th>4672</th>\n",
       "      <td>176</td>\n",
       "      <td>NTIA/CPS survey.</td>\n",
       "      <td>NaN</td>\n",
       "      <td>NaN</td>\n",
       "      <td>NaN</td>\n",
       "      <td>NaN</td>\n",
       "    </tr>\n",
       "    <tr>\n",
       "      <th>4673</th>\n",
       "      <td>177</td>\n",
       "      <td>Pew Internet Project, Internet</td>\n",
       "      <td>Broadband and cell phone statistics</td>\n",
       "      <td>” January 5</td>\n",
       "      <td>2010.0</td>\n",
       "      <td>http://www.pewinternet.org/~/media//Files/Rep...</td>\n",
       "    </tr>\n",
       "    <tr>\n",
       "      <th>4674</th>\n",
       "      <td>178</td>\n",
       "      <td>Estimated based on Survey's results. Populatio...</td>\n",
       "      <td>NaN</td>\n",
       "      <td>NaN</td>\n",
       "      <td>NaN</td>\n",
       "      <td>NaN</td>\n",
       "    </tr>\n",
       "    <tr>\n",
       "      <th>4675</th>\n",
       "      <td>179</td>\n",
       "      <td>Preliminary. Country estimate.</td>\n",
       "      <td>NaN</td>\n",
       "      <td>NaN</td>\n",
       "      <td>NaN</td>\n",
       "      <td>NaN</td>\n",
       "    </tr>\n",
       "    <tr>\n",
       "      <th>4676</th>\n",
       "      <td>180</td>\n",
       "      <td>The methodology used to estimated the figure f...</td>\n",
       "      <td>NaN</td>\n",
       "      <td>NaN</td>\n",
       "      <td>NaN</td>\n",
       "      <td>NaN</td>\n",
       "    </tr>\n",
       "  </tbody>\n",
       "</table>\n",
       "<p>4677 rows × 6 columns</p>\n",
       "</div>"
      ],
      "text/plain": [
       "     Country or Area                                               Year  \\\n",
       "0        Afghanistan                                               2014   \n",
       "1        Afghanistan                                               2013   \n",
       "2        Afghanistan                                               2012   \n",
       "3        Afghanistan                                               2011   \n",
       "4        Afghanistan                                               2010   \n",
       "...              ...                                                ...   \n",
       "4672             176                                   NTIA/CPS survey.   \n",
       "4673             177                     Pew Internet Project, Internet   \n",
       "4674             178  Estimated based on Survey's results. Populatio...   \n",
       "4675             179                     Preliminary. Country estimate.   \n",
       "4676             180  The methodology used to estimated the figure f...   \n",
       "\n",
       "                                     Value Value Footnotes  Unnamed: 4  \\\n",
       "0                                     6.39             NaN         NaN   \n",
       "1                                      5.9             NaN         NaN   \n",
       "2                              5.454545455             NaN         NaN   \n",
       "3                                        5             NaN         NaN   \n",
       "4                                        4             NaN         NaN   \n",
       "...                                    ...             ...         ...   \n",
       "4672                                   NaN             NaN         NaN   \n",
       "4673   Broadband and cell phone statistics     ” January 5      2010.0   \n",
       "4674                                   NaN             NaN         NaN   \n",
       "4675                                   NaN             NaN         NaN   \n",
       "4676                                   NaN             NaN         NaN   \n",
       "\n",
       "                                             Unnamed: 5  \n",
       "0                                                   NaN  \n",
       "1                                                   NaN  \n",
       "2                                                   NaN  \n",
       "3                                                   NaN  \n",
       "4                                                   NaN  \n",
       "...                                                 ...  \n",
       "4672                                                NaN  \n",
       "4673   http://www.pewinternet.org/~/media//Files/Rep...  \n",
       "4674                                                NaN  \n",
       "4675                                                NaN  \n",
       "4676                                                NaN  \n",
       "\n",
       "[4677 rows x 6 columns]"
      ]
     },
     "execution_count": 71,
     "metadata": {},
     "output_type": "execute_result"
    }
   ],
   "source": [
    "internet_df"
   ]
  },
  {
   "cell_type": "code",
   "execution_count": 73,
   "id": "599f4a76",
   "metadata": {},
   "outputs": [],
   "source": [
    "internet_df = pd.read_csv(\"data/internet_use.csv\", nrows = 4495)"
   ]
  },
  {
   "cell_type": "code",
   "execution_count": 74,
   "id": "e4d6389e",
   "metadata": {},
   "outputs": [
    {
     "data": {
      "text/html": [
       "<div>\n",
       "<style scoped>\n",
       "    .dataframe tbody tr th:only-of-type {\n",
       "        vertical-align: middle;\n",
       "    }\n",
       "\n",
       "    .dataframe tbody tr th {\n",
       "        vertical-align: top;\n",
       "    }\n",
       "\n",
       "    .dataframe thead th {\n",
       "        text-align: right;\n",
       "    }\n",
       "</style>\n",
       "<table border=\"1\" class=\"dataframe\">\n",
       "  <thead>\n",
       "    <tr style=\"text-align: right;\">\n",
       "      <th></th>\n",
       "      <th>Country or Area</th>\n",
       "      <th>Year</th>\n",
       "      <th>Value</th>\n",
       "      <th>Value Footnotes</th>\n",
       "      <th>Unnamed: 4</th>\n",
       "      <th>Unnamed: 5</th>\n",
       "    </tr>\n",
       "  </thead>\n",
       "  <tbody>\n",
       "    <tr>\n",
       "      <th>0</th>\n",
       "      <td>Afghanistan</td>\n",
       "      <td>2014</td>\n",
       "      <td>6.390000</td>\n",
       "      <td>NaN</td>\n",
       "      <td>NaN</td>\n",
       "      <td>NaN</td>\n",
       "    </tr>\n",
       "    <tr>\n",
       "      <th>1</th>\n",
       "      <td>Afghanistan</td>\n",
       "      <td>2013</td>\n",
       "      <td>5.900000</td>\n",
       "      <td>NaN</td>\n",
       "      <td>NaN</td>\n",
       "      <td>NaN</td>\n",
       "    </tr>\n",
       "    <tr>\n",
       "      <th>2</th>\n",
       "      <td>Afghanistan</td>\n",
       "      <td>2012</td>\n",
       "      <td>5.454545</td>\n",
       "      <td>NaN</td>\n",
       "      <td>NaN</td>\n",
       "      <td>NaN</td>\n",
       "    </tr>\n",
       "    <tr>\n",
       "      <th>3</th>\n",
       "      <td>Afghanistan</td>\n",
       "      <td>2011</td>\n",
       "      <td>5.000000</td>\n",
       "      <td>NaN</td>\n",
       "      <td>NaN</td>\n",
       "      <td>NaN</td>\n",
       "    </tr>\n",
       "    <tr>\n",
       "      <th>4</th>\n",
       "      <td>Afghanistan</td>\n",
       "      <td>2010</td>\n",
       "      <td>4.000000</td>\n",
       "      <td>NaN</td>\n",
       "      <td>NaN</td>\n",
       "      <td>NaN</td>\n",
       "    </tr>\n",
       "    <tr>\n",
       "      <th>5</th>\n",
       "      <td>Afghanistan</td>\n",
       "      <td>2009</td>\n",
       "      <td>3.550000</td>\n",
       "      <td>NaN</td>\n",
       "      <td>NaN</td>\n",
       "      <td>NaN</td>\n",
       "    </tr>\n",
       "  </tbody>\n",
       "</table>\n",
       "</div>"
      ],
      "text/plain": [
       "  Country or Area  Year     Value  Value Footnotes  Unnamed: 4  Unnamed: 5\n",
       "0     Afghanistan  2014  6.390000              NaN         NaN         NaN\n",
       "1     Afghanistan  2013  5.900000              NaN         NaN         NaN\n",
       "2     Afghanistan  2012  5.454545              NaN         NaN         NaN\n",
       "3     Afghanistan  2011  5.000000              NaN         NaN         NaN\n",
       "4     Afghanistan  2010  4.000000              NaN         NaN         NaN\n",
       "5     Afghanistan  2009  3.550000              NaN         NaN         NaN"
      ]
     },
     "execution_count": 74,
     "metadata": {},
     "output_type": "execute_result"
    }
   ],
   "source": [
    "internet_df.head(6)"
   ]
  },
  {
   "cell_type": "markdown",
   "id": "41c9ac31",
   "metadata": {},
   "source": [
    "7. Look at the shape of each DataFrame - how many rows? How many columns"
   ]
  },
  {
   "cell_type": "code",
   "execution_count": 75,
   "id": "d8453726",
   "metadata": {},
   "outputs": [
    {
     "data": {
      "text/plain": [
       "(6868, 4)"
      ]
     },
     "execution_count": 75,
     "metadata": {},
     "output_type": "execute_result"
    }
   ],
   "source": [
    "gdp_df.shape"
   ]
  },
  {
   "cell_type": "code",
   "execution_count": 76,
   "id": "aaf0195a",
   "metadata": {},
   "outputs": [
    {
     "data": {
      "text/plain": [
       "(4495, 6)"
      ]
     },
     "execution_count": 76,
     "metadata": {},
     "output_type": "execute_result"
    }
   ],
   "source": [
    "internet_df.shape"
   ]
  },
  {
   "cell_type": "markdown",
   "id": "758c1df1",
   "metadata": {},
   "source": [
    "GDP\n",
    "Rows: 6,868\n",
    "Columns: 4\n",
    "\n",
    "Internet\n",
    "Rows: 4,495\n",
    "Columns: 4"
   ]
  },
  {
   "cell_type": "markdown",
   "id": "1d45ef2e",
   "metadata": {},
   "source": [
    "8. Take a look at the datatypes for the columns in each DataFrame"
   ]
  },
  {
   "cell_type": "code",
   "execution_count": 77,
   "id": "08885fa8",
   "metadata": {},
   "outputs": [
    {
     "data": {
      "text/plain": [
       "Country or Area     object\n",
       "Year                 int64\n",
       "Value              float64\n",
       "Value Footnotes    float64\n",
       "dtype: object"
      ]
     },
     "execution_count": 77,
     "metadata": {},
     "output_type": "execute_result"
    }
   ],
   "source": [
    "gdp_df.dtypes"
   ]
  },
  {
   "cell_type": "code",
   "execution_count": 78,
   "id": "67055e0a",
   "metadata": {},
   "outputs": [
    {
     "data": {
      "text/plain": [
       "Country or Area     object\n",
       "Year                 int64\n",
       "Value              float64\n",
       "Value Footnotes    float64\n",
       "Unnamed: 4         float64\n",
       "Unnamed: 5         float64\n",
       "dtype: object"
      ]
     },
     "execution_count": 78,
     "metadata": {},
     "output_type": "execute_result"
    }
   ],
   "source": [
    "internet_df.dtypes"
   ]
  },
  {
   "cell_type": "markdown",
   "id": "679cfd34",
   "metadata": {},
   "source": [
    "9. Take a look at the last 10 rows of each DataFrame in turn"
   ]
  },
  {
   "cell_type": "code",
   "execution_count": 79,
   "id": "fb262549",
   "metadata": {},
   "outputs": [
    {
     "data": {
      "text/html": [
       "<div>\n",
       "<style scoped>\n",
       "    .dataframe tbody tr th:only-of-type {\n",
       "        vertical-align: middle;\n",
       "    }\n",
       "\n",
       "    .dataframe tbody tr th {\n",
       "        vertical-align: top;\n",
       "    }\n",
       "\n",
       "    .dataframe thead th {\n",
       "        text-align: right;\n",
       "    }\n",
       "</style>\n",
       "<table border=\"1\" class=\"dataframe\">\n",
       "  <thead>\n",
       "    <tr style=\"text-align: right;\">\n",
       "      <th></th>\n",
       "      <th>Country or Area</th>\n",
       "      <th>Year</th>\n",
       "      <th>Value</th>\n",
       "      <th>Value Footnotes</th>\n",
       "    </tr>\n",
       "  </thead>\n",
       "  <tbody>\n",
       "    <tr>\n",
       "      <th>6858</th>\n",
       "      <td>United Kingdom</td>\n",
       "      <td>2001</td>\n",
       "      <td>39569.150506</td>\n",
       "      <td>NaN</td>\n",
       "    </tr>\n",
       "    <tr>\n",
       "      <th>6859</th>\n",
       "      <td>United Kingdom</td>\n",
       "      <td>2000</td>\n",
       "      <td>38915.197538</td>\n",
       "      <td>NaN</td>\n",
       "    </tr>\n",
       "    <tr>\n",
       "      <th>6860</th>\n",
       "      <td>United Kingdom</td>\n",
       "      <td>1999</td>\n",
       "      <td>37671.069853</td>\n",
       "      <td>NaN</td>\n",
       "    </tr>\n",
       "    <tr>\n",
       "      <th>6861</th>\n",
       "      <td>United Kingdom</td>\n",
       "      <td>1998</td>\n",
       "      <td>36699.520462</td>\n",
       "      <td>NaN</td>\n",
       "    </tr>\n",
       "    <tr>\n",
       "      <th>6862</th>\n",
       "      <td>United Kingdom</td>\n",
       "      <td>1997</td>\n",
       "      <td>35681.244131</td>\n",
       "      <td>NaN</td>\n",
       "    </tr>\n",
       "    <tr>\n",
       "      <th>6863</th>\n",
       "      <td>United Kingdom</td>\n",
       "      <td>1996</td>\n",
       "      <td>34099.316578</td>\n",
       "      <td>NaN</td>\n",
       "    </tr>\n",
       "    <tr>\n",
       "      <th>6864</th>\n",
       "      <td>United Kingdom</td>\n",
       "      <td>1995</td>\n",
       "      <td>33375.709644</td>\n",
       "      <td>NaN</td>\n",
       "    </tr>\n",
       "    <tr>\n",
       "      <th>6865</th>\n",
       "      <td>United Kingdom</td>\n",
       "      <td>1994</td>\n",
       "      <td>32637.838742</td>\n",
       "      <td>NaN</td>\n",
       "    </tr>\n",
       "    <tr>\n",
       "      <th>6866</th>\n",
       "      <td>United Kingdom</td>\n",
       "      <td>1993</td>\n",
       "      <td>31509.189800</td>\n",
       "      <td>NaN</td>\n",
       "    </tr>\n",
       "    <tr>\n",
       "      <th>6867</th>\n",
       "      <td>United Kingdom</td>\n",
       "      <td>1992</td>\n",
       "      <td>30817.518156</td>\n",
       "      <td>NaN</td>\n",
       "    </tr>\n",
       "  </tbody>\n",
       "</table>\n",
       "</div>"
      ],
      "text/plain": [
       "     Country or Area  Year         Value  Value Footnotes\n",
       "6858  United Kingdom  2001  39569.150506              NaN\n",
       "6859  United Kingdom  2000  38915.197538              NaN\n",
       "6860  United Kingdom  1999  37671.069853              NaN\n",
       "6861  United Kingdom  1998  36699.520462              NaN\n",
       "6862  United Kingdom  1997  35681.244131              NaN\n",
       "6863  United Kingdom  1996  34099.316578              NaN\n",
       "6864  United Kingdom  1995  33375.709644              NaN\n",
       "6865  United Kingdom  1994  32637.838742              NaN\n",
       "6866  United Kingdom  1993  31509.189800              NaN\n",
       "6867  United Kingdom  1992  30817.518156              NaN"
      ]
     },
     "execution_count": 79,
     "metadata": {},
     "output_type": "execute_result"
    }
   ],
   "source": [
    "gdp_df.tail(10)"
   ]
  },
  {
   "cell_type": "code",
   "execution_count": 80,
   "id": "6939a493",
   "metadata": {},
   "outputs": [
    {
     "data": {
      "text/html": [
       "<div>\n",
       "<style scoped>\n",
       "    .dataframe tbody tr th:only-of-type {\n",
       "        vertical-align: middle;\n",
       "    }\n",
       "\n",
       "    .dataframe tbody tr th {\n",
       "        vertical-align: top;\n",
       "    }\n",
       "\n",
       "    .dataframe thead th {\n",
       "        text-align: right;\n",
       "    }\n",
       "</style>\n",
       "<table border=\"1\" class=\"dataframe\">\n",
       "  <thead>\n",
       "    <tr style=\"text-align: right;\">\n",
       "      <th></th>\n",
       "      <th>Country or Area</th>\n",
       "      <th>Year</th>\n",
       "      <th>Value</th>\n",
       "      <th>Value Footnotes</th>\n",
       "      <th>Unnamed: 4</th>\n",
       "      <th>Unnamed: 5</th>\n",
       "    </tr>\n",
       "  </thead>\n",
       "  <tbody>\n",
       "    <tr>\n",
       "      <th>4485</th>\n",
       "      <td>Zimbabwe</td>\n",
       "      <td>2002</td>\n",
       "      <td>3.994356</td>\n",
       "      <td>NaN</td>\n",
       "      <td>NaN</td>\n",
       "      <td>NaN</td>\n",
       "    </tr>\n",
       "    <tr>\n",
       "      <th>4486</th>\n",
       "      <td>Zimbabwe</td>\n",
       "      <td>2001</td>\n",
       "      <td>0.799846</td>\n",
       "      <td>NaN</td>\n",
       "      <td>NaN</td>\n",
       "      <td>NaN</td>\n",
       "    </tr>\n",
       "    <tr>\n",
       "      <th>4487</th>\n",
       "      <td>Zimbabwe</td>\n",
       "      <td>2000</td>\n",
       "      <td>0.401434</td>\n",
       "      <td>NaN</td>\n",
       "      <td>NaN</td>\n",
       "      <td>NaN</td>\n",
       "    </tr>\n",
       "    <tr>\n",
       "      <th>4488</th>\n",
       "      <td>Zimbabwe</td>\n",
       "      <td>1999</td>\n",
       "      <td>0.161676</td>\n",
       "      <td>NaN</td>\n",
       "      <td>NaN</td>\n",
       "      <td>NaN</td>\n",
       "    </tr>\n",
       "    <tr>\n",
       "      <th>4489</th>\n",
       "      <td>Zimbabwe</td>\n",
       "      <td>1998</td>\n",
       "      <td>0.081648</td>\n",
       "      <td>NaN</td>\n",
       "      <td>NaN</td>\n",
       "      <td>NaN</td>\n",
       "    </tr>\n",
       "    <tr>\n",
       "      <th>4490</th>\n",
       "      <td>Zimbabwe</td>\n",
       "      <td>1997</td>\n",
       "      <td>0.033080</td>\n",
       "      <td>NaN</td>\n",
       "      <td>NaN</td>\n",
       "      <td>NaN</td>\n",
       "    </tr>\n",
       "    <tr>\n",
       "      <th>4491</th>\n",
       "      <td>Zimbabwe</td>\n",
       "      <td>1996</td>\n",
       "      <td>0.016790</td>\n",
       "      <td>NaN</td>\n",
       "      <td>NaN</td>\n",
       "      <td>NaN</td>\n",
       "    </tr>\n",
       "    <tr>\n",
       "      <th>4492</th>\n",
       "      <td>Zimbabwe</td>\n",
       "      <td>1995</td>\n",
       "      <td>0.007684</td>\n",
       "      <td>NaN</td>\n",
       "      <td>NaN</td>\n",
       "      <td>NaN</td>\n",
       "    </tr>\n",
       "    <tr>\n",
       "      <th>4493</th>\n",
       "      <td>Zimbabwe</td>\n",
       "      <td>1994</td>\n",
       "      <td>0.001739</td>\n",
       "      <td>NaN</td>\n",
       "      <td>NaN</td>\n",
       "      <td>NaN</td>\n",
       "    </tr>\n",
       "    <tr>\n",
       "      <th>4494</th>\n",
       "      <td>Zimbabwe</td>\n",
       "      <td>1990</td>\n",
       "      <td>0.000000</td>\n",
       "      <td>NaN</td>\n",
       "      <td>NaN</td>\n",
       "      <td>NaN</td>\n",
       "    </tr>\n",
       "  </tbody>\n",
       "</table>\n",
       "</div>"
      ],
      "text/plain": [
       "     Country or Area  Year     Value  Value Footnotes  Unnamed: 4  Unnamed: 5\n",
       "4485        Zimbabwe  2002  3.994356              NaN         NaN         NaN\n",
       "4486        Zimbabwe  2001  0.799846              NaN         NaN         NaN\n",
       "4487        Zimbabwe  2000  0.401434              NaN         NaN         NaN\n",
       "4488        Zimbabwe  1999  0.161676              NaN         NaN         NaN\n",
       "4489        Zimbabwe  1998  0.081648              NaN         NaN         NaN\n",
       "4490        Zimbabwe  1997  0.033080              NaN         NaN         NaN\n",
       "4491        Zimbabwe  1996  0.016790              NaN         NaN         NaN\n",
       "4492        Zimbabwe  1995  0.007684              NaN         NaN         NaN\n",
       "4493        Zimbabwe  1994  0.001739              NaN         NaN         NaN\n",
       "4494        Zimbabwe  1990  0.000000              NaN         NaN         NaN"
      ]
     },
     "execution_count": 80,
     "metadata": {},
     "output_type": "execute_result"
    }
   ],
   "source": [
    "internet_df.tail(10)"
   ]
  },
  {
   "cell_type": "markdown",
   "id": "7f614eef",
   "metadata": {},
   "source": [
    "10. Drop the value footnotes column from both DataFrames. Check that this worked as expected"
   ]
  },
  {
   "cell_type": "code",
   "execution_count": 81,
   "id": "2d8bf0ec",
   "metadata": {},
   "outputs": [
    {
     "name": "stderr",
     "output_type": "stream",
     "text": [
      "/var/folders/mn/16r7j31952bgzg43xx0r8m0c0000gn/T/ipykernel_8779/1078856020.py:1: FutureWarning: In a future version of pandas all arguments of DataFrame.drop except for the argument 'labels' will be keyword-only.\n",
      "  gdp_df_drop = gdp_df.drop('Value Footnotes', 1)\n"
     ]
    },
    {
     "data": {
      "text/html": [
       "<div>\n",
       "<style scoped>\n",
       "    .dataframe tbody tr th:only-of-type {\n",
       "        vertical-align: middle;\n",
       "    }\n",
       "\n",
       "    .dataframe tbody tr th {\n",
       "        vertical-align: top;\n",
       "    }\n",
       "\n",
       "    .dataframe thead th {\n",
       "        text-align: right;\n",
       "    }\n",
       "</style>\n",
       "<table border=\"1\" class=\"dataframe\">\n",
       "  <thead>\n",
       "    <tr style=\"text-align: right;\">\n",
       "      <th></th>\n",
       "      <th>Country or Area</th>\n",
       "      <th>Year</th>\n",
       "      <th>Value</th>\n",
       "    </tr>\n",
       "  </thead>\n",
       "  <tbody>\n",
       "    <tr>\n",
       "      <th>0</th>\n",
       "      <td>Afghanistan</td>\n",
       "      <td>2020</td>\n",
       "      <td>1970.560169</td>\n",
       "    </tr>\n",
       "    <tr>\n",
       "      <th>1</th>\n",
       "      <td>Afghanistan</td>\n",
       "      <td>2019</td>\n",
       "      <td>2065.036235</td>\n",
       "    </tr>\n",
       "    <tr>\n",
       "      <th>2</th>\n",
       "      <td>Afghanistan</td>\n",
       "      <td>2018</td>\n",
       "      <td>2033.804389</td>\n",
       "    </tr>\n",
       "    <tr>\n",
       "      <th>3</th>\n",
       "      <td>Afghanistan</td>\n",
       "      <td>2017</td>\n",
       "      <td>2058.400221</td>\n",
       "    </tr>\n",
       "    <tr>\n",
       "      <th>4</th>\n",
       "      <td>Afghanistan</td>\n",
       "      <td>2016</td>\n",
       "      <td>2057.067978</td>\n",
       "    </tr>\n",
       "  </tbody>\n",
       "</table>\n",
       "</div>"
      ],
      "text/plain": [
       "  Country or Area  Year        Value\n",
       "0     Afghanistan  2020  1970.560169\n",
       "1     Afghanistan  2019  2065.036235\n",
       "2     Afghanistan  2018  2033.804389\n",
       "3     Afghanistan  2017  2058.400221\n",
       "4     Afghanistan  2016  2057.067978"
      ]
     },
     "execution_count": 81,
     "metadata": {},
     "output_type": "execute_result"
    }
   ],
   "source": [
    "gdp_df_drop = gdp_df.drop('Value Footnotes', 1)\n",
    "gdp_df_drop.head()"
   ]
  },
  {
   "cell_type": "code",
   "execution_count": 82,
   "id": "9cb1e49c",
   "metadata": {},
   "outputs": [
    {
     "data": {
      "text/html": [
       "<div>\n",
       "<style scoped>\n",
       "    .dataframe tbody tr th:only-of-type {\n",
       "        vertical-align: middle;\n",
       "    }\n",
       "\n",
       "    .dataframe tbody tr th {\n",
       "        vertical-align: top;\n",
       "    }\n",
       "\n",
       "    .dataframe thead th {\n",
       "        text-align: right;\n",
       "    }\n",
       "</style>\n",
       "<table border=\"1\" class=\"dataframe\">\n",
       "  <thead>\n",
       "    <tr style=\"text-align: right;\">\n",
       "      <th></th>\n",
       "      <th>Country or Area</th>\n",
       "      <th>Year</th>\n",
       "      <th>Value</th>\n",
       "    </tr>\n",
       "  </thead>\n",
       "  <tbody>\n",
       "    <tr>\n",
       "      <th>0</th>\n",
       "      <td>Afghanistan</td>\n",
       "      <td>2020</td>\n",
       "      <td>1970.560169</td>\n",
       "    </tr>\n",
       "    <tr>\n",
       "      <th>1</th>\n",
       "      <td>Afghanistan</td>\n",
       "      <td>2019</td>\n",
       "      <td>2065.036235</td>\n",
       "    </tr>\n",
       "    <tr>\n",
       "      <th>2</th>\n",
       "      <td>Afghanistan</td>\n",
       "      <td>2018</td>\n",
       "      <td>2033.804389</td>\n",
       "    </tr>\n",
       "    <tr>\n",
       "      <th>3</th>\n",
       "      <td>Afghanistan</td>\n",
       "      <td>2017</td>\n",
       "      <td>2058.400221</td>\n",
       "    </tr>\n",
       "    <tr>\n",
       "      <th>4</th>\n",
       "      <td>Afghanistan</td>\n",
       "      <td>2016</td>\n",
       "      <td>2057.067978</td>\n",
       "    </tr>\n",
       "  </tbody>\n",
       "</table>\n",
       "</div>"
      ],
      "text/plain": [
       "  Country or Area  Year        Value\n",
       "0     Afghanistan  2020  1970.560169\n",
       "1     Afghanistan  2019  2065.036235\n",
       "2     Afghanistan  2018  2033.804389\n",
       "3     Afghanistan  2017  2058.400221\n",
       "4     Afghanistan  2016  2057.067978"
      ]
     },
     "execution_count": 82,
     "metadata": {},
     "output_type": "execute_result"
    }
   ],
   "source": [
    "gdp_df.pop('Value Footnotes')\n",
    "gdp_df.head()"
   ]
  },
  {
   "cell_type": "code",
   "execution_count": 83,
   "id": "06b261e6",
   "metadata": {},
   "outputs": [
    {
     "name": "stderr",
     "output_type": "stream",
     "text": [
      "/var/folders/mn/16r7j31952bgzg43xx0r8m0c0000gn/T/ipykernel_8779/3030275169.py:1: FutureWarning: In a future version of pandas all arguments of DataFrame.drop except for the argument 'labels' will be keyword-only.\n",
      "  internet_df = internet_df.drop('Value Footnotes', 1)\n"
     ]
    },
    {
     "data": {
      "text/html": [
       "<div>\n",
       "<style scoped>\n",
       "    .dataframe tbody tr th:only-of-type {\n",
       "        vertical-align: middle;\n",
       "    }\n",
       "\n",
       "    .dataframe tbody tr th {\n",
       "        vertical-align: top;\n",
       "    }\n",
       "\n",
       "    .dataframe thead th {\n",
       "        text-align: right;\n",
       "    }\n",
       "</style>\n",
       "<table border=\"1\" class=\"dataframe\">\n",
       "  <thead>\n",
       "    <tr style=\"text-align: right;\">\n",
       "      <th></th>\n",
       "      <th>Country or Area</th>\n",
       "      <th>Year</th>\n",
       "      <th>Value</th>\n",
       "      <th>Unnamed: 4</th>\n",
       "      <th>Unnamed: 5</th>\n",
       "    </tr>\n",
       "  </thead>\n",
       "  <tbody>\n",
       "    <tr>\n",
       "      <th>0</th>\n",
       "      <td>Afghanistan</td>\n",
       "      <td>2014</td>\n",
       "      <td>6.390000</td>\n",
       "      <td>NaN</td>\n",
       "      <td>NaN</td>\n",
       "    </tr>\n",
       "    <tr>\n",
       "      <th>1</th>\n",
       "      <td>Afghanistan</td>\n",
       "      <td>2013</td>\n",
       "      <td>5.900000</td>\n",
       "      <td>NaN</td>\n",
       "      <td>NaN</td>\n",
       "    </tr>\n",
       "    <tr>\n",
       "      <th>2</th>\n",
       "      <td>Afghanistan</td>\n",
       "      <td>2012</td>\n",
       "      <td>5.454545</td>\n",
       "      <td>NaN</td>\n",
       "      <td>NaN</td>\n",
       "    </tr>\n",
       "    <tr>\n",
       "      <th>3</th>\n",
       "      <td>Afghanistan</td>\n",
       "      <td>2011</td>\n",
       "      <td>5.000000</td>\n",
       "      <td>NaN</td>\n",
       "      <td>NaN</td>\n",
       "    </tr>\n",
       "    <tr>\n",
       "      <th>4</th>\n",
       "      <td>Afghanistan</td>\n",
       "      <td>2010</td>\n",
       "      <td>4.000000</td>\n",
       "      <td>NaN</td>\n",
       "      <td>NaN</td>\n",
       "    </tr>\n",
       "  </tbody>\n",
       "</table>\n",
       "</div>"
      ],
      "text/plain": [
       "  Country or Area  Year     Value  Unnamed: 4  Unnamed: 5\n",
       "0     Afghanistan  2014  6.390000         NaN         NaN\n",
       "1     Afghanistan  2013  5.900000         NaN         NaN\n",
       "2     Afghanistan  2012  5.454545         NaN         NaN\n",
       "3     Afghanistan  2011  5.000000         NaN         NaN\n",
       "4     Afghanistan  2010  4.000000         NaN         NaN"
      ]
     },
     "execution_count": 83,
     "metadata": {},
     "output_type": "execute_result"
    }
   ],
   "source": [
    "internet_df = internet_df.drop('Value Footnotes', 1)\n",
    "internet_df.head()"
   ]
  },
  {
   "cell_type": "markdown",
   "id": "1ba11939",
   "metadata": {},
   "source": [
    "11. Change the columns for the GDP Per Capita DataFrame to ‘Country’, ‘Year’, and ‘GDP_Per_Capita’"
   ]
  },
  {
   "cell_type": "code",
   "execution_count": 84,
   "id": "a5e8aad7",
   "metadata": {},
   "outputs": [
    {
     "data": {
      "text/html": [
       "<div>\n",
       "<style scoped>\n",
       "    .dataframe tbody tr th:only-of-type {\n",
       "        vertical-align: middle;\n",
       "    }\n",
       "\n",
       "    .dataframe tbody tr th {\n",
       "        vertical-align: top;\n",
       "    }\n",
       "\n",
       "    .dataframe thead th {\n",
       "        text-align: right;\n",
       "    }\n",
       "</style>\n",
       "<table border=\"1\" class=\"dataframe\">\n",
       "  <thead>\n",
       "    <tr style=\"text-align: right;\">\n",
       "      <th></th>\n",
       "      <th>Country</th>\n",
       "      <th>Year</th>\n",
       "      <th>GDP_Per_Capita</th>\n",
       "    </tr>\n",
       "  </thead>\n",
       "  <tbody>\n",
       "    <tr>\n",
       "      <th>0</th>\n",
       "      <td>Afghanistan</td>\n",
       "      <td>2020</td>\n",
       "      <td>1970.560169</td>\n",
       "    </tr>\n",
       "    <tr>\n",
       "      <th>1</th>\n",
       "      <td>Afghanistan</td>\n",
       "      <td>2019</td>\n",
       "      <td>2065.036235</td>\n",
       "    </tr>\n",
       "    <tr>\n",
       "      <th>2</th>\n",
       "      <td>Afghanistan</td>\n",
       "      <td>2018</td>\n",
       "      <td>2033.804389</td>\n",
       "    </tr>\n",
       "    <tr>\n",
       "      <th>3</th>\n",
       "      <td>Afghanistan</td>\n",
       "      <td>2017</td>\n",
       "      <td>2058.400221</td>\n",
       "    </tr>\n",
       "    <tr>\n",
       "      <th>4</th>\n",
       "      <td>Afghanistan</td>\n",
       "      <td>2016</td>\n",
       "      <td>2057.067978</td>\n",
       "    </tr>\n",
       "  </tbody>\n",
       "</table>\n",
       "</div>"
      ],
      "text/plain": [
       "       Country  Year  GDP_Per_Capita\n",
       "0  Afghanistan  2020     1970.560169\n",
       "1  Afghanistan  2019     2065.036235\n",
       "2  Afghanistan  2018     2033.804389\n",
       "3  Afghanistan  2017     2058.400221\n",
       "4  Afghanistan  2016     2057.067978"
      ]
     },
     "execution_count": 84,
     "metadata": {},
     "output_type": "execute_result"
    }
   ],
   "source": [
    "gdp_df = gdp_df.rename(columns={'Country or Area': 'Country', 'Value': 'GDP_Per_Capita'})\n",
    "gdp_df.head()"
   ]
  },
  {
   "cell_type": "markdown",
   "id": "ec410f20",
   "metadata": {},
   "source": [
    "12. Change the columns for the Internet Users DataFrame to ‘Country’, ‘Year’, and ‘Internet_Users_Pct’"
   ]
  },
  {
   "cell_type": "code",
   "execution_count": 86,
   "id": "e7d27970",
   "metadata": {},
   "outputs": [
    {
     "data": {
      "text/html": [
       "<div>\n",
       "<style scoped>\n",
       "    .dataframe tbody tr th:only-of-type {\n",
       "        vertical-align: middle;\n",
       "    }\n",
       "\n",
       "    .dataframe tbody tr th {\n",
       "        vertical-align: top;\n",
       "    }\n",
       "\n",
       "    .dataframe thead th {\n",
       "        text-align: right;\n",
       "    }\n",
       "</style>\n",
       "<table border=\"1\" class=\"dataframe\">\n",
       "  <thead>\n",
       "    <tr style=\"text-align: right;\">\n",
       "      <th></th>\n",
       "      <th>Country</th>\n",
       "      <th>Year</th>\n",
       "      <th>Internet_Users_Pct</th>\n",
       "      <th>Unnamed: 4</th>\n",
       "      <th>Unnamed: 5</th>\n",
       "    </tr>\n",
       "  </thead>\n",
       "  <tbody>\n",
       "    <tr>\n",
       "      <th>0</th>\n",
       "      <td>Afghanistan</td>\n",
       "      <td>2014</td>\n",
       "      <td>6.390000</td>\n",
       "      <td>NaN</td>\n",
       "      <td>NaN</td>\n",
       "    </tr>\n",
       "    <tr>\n",
       "      <th>1</th>\n",
       "      <td>Afghanistan</td>\n",
       "      <td>2013</td>\n",
       "      <td>5.900000</td>\n",
       "      <td>NaN</td>\n",
       "      <td>NaN</td>\n",
       "    </tr>\n",
       "    <tr>\n",
       "      <th>2</th>\n",
       "      <td>Afghanistan</td>\n",
       "      <td>2012</td>\n",
       "      <td>5.454545</td>\n",
       "      <td>NaN</td>\n",
       "      <td>NaN</td>\n",
       "    </tr>\n",
       "    <tr>\n",
       "      <th>3</th>\n",
       "      <td>Afghanistan</td>\n",
       "      <td>2011</td>\n",
       "      <td>5.000000</td>\n",
       "      <td>NaN</td>\n",
       "      <td>NaN</td>\n",
       "    </tr>\n",
       "    <tr>\n",
       "      <th>4</th>\n",
       "      <td>Afghanistan</td>\n",
       "      <td>2010</td>\n",
       "      <td>4.000000</td>\n",
       "      <td>NaN</td>\n",
       "      <td>NaN</td>\n",
       "    </tr>\n",
       "  </tbody>\n",
       "</table>\n",
       "</div>"
      ],
      "text/plain": [
       "       Country  Year  Internet_Users_Pct  Unnamed: 4  Unnamed: 5\n",
       "0  Afghanistan  2014            6.390000         NaN         NaN\n",
       "1  Afghanistan  2013            5.900000         NaN         NaN\n",
       "2  Afghanistan  2012            5.454545         NaN         NaN\n",
       "3  Afghanistan  2011            5.000000         NaN         NaN\n",
       "4  Afghanistan  2010            4.000000         NaN         NaN"
      ]
     },
     "execution_count": 86,
     "metadata": {},
     "output_type": "execute_result"
    }
   ],
   "source": [
    "internet_df = internet_df.rename(columns={'Country or Area': 'Country', 'Year': 'Year', 'Value': 'Internet_Users_Pct'})\n",
    "internet_df.head()\n"
   ]
  },
  {
   "cell_type": "markdown",
   "id": "508a18c9",
   "metadata": {},
   "source": [
    "13. Merge the two DataFrames to one. Merge all rows from each of the two DataFrames. Call the new DataFrame gdp_and_internet_use"
   ]
  },
  {
   "cell_type": "code",
   "execution_count": 87,
   "id": "2a15a0d7",
   "metadata": {},
   "outputs": [],
   "source": [
    "gdp_and_internet_use = pd.merge(gdp_df, internet_df, how='outer', on = ['Country', 'Year'])"
   ]
  },
  {
   "cell_type": "markdown",
   "id": "02ddeb74",
   "metadata": {},
   "source": [
    "14. Look at the first five rows of your new DataFrame to confirm it merged correctly"
   ]
  },
  {
   "cell_type": "code",
   "execution_count": 88,
   "id": "714963f2",
   "metadata": {},
   "outputs": [
    {
     "data": {
      "text/html": [
       "<div>\n",
       "<style scoped>\n",
       "    .dataframe tbody tr th:only-of-type {\n",
       "        vertical-align: middle;\n",
       "    }\n",
       "\n",
       "    .dataframe tbody tr th {\n",
       "        vertical-align: top;\n",
       "    }\n",
       "\n",
       "    .dataframe thead th {\n",
       "        text-align: right;\n",
       "    }\n",
       "</style>\n",
       "<table border=\"1\" class=\"dataframe\">\n",
       "  <thead>\n",
       "    <tr style=\"text-align: right;\">\n",
       "      <th></th>\n",
       "      <th>Country</th>\n",
       "      <th>Year</th>\n",
       "      <th>GDP_Per_Capita</th>\n",
       "      <th>Internet_Users_Pct</th>\n",
       "      <th>Unnamed: 4</th>\n",
       "      <th>Unnamed: 5</th>\n",
       "    </tr>\n",
       "  </thead>\n",
       "  <tbody>\n",
       "    <tr>\n",
       "      <th>0</th>\n",
       "      <td>Afghanistan</td>\n",
       "      <td>2020</td>\n",
       "      <td>1970.560169</td>\n",
       "      <td>NaN</td>\n",
       "      <td>NaN</td>\n",
       "      <td>NaN</td>\n",
       "    </tr>\n",
       "    <tr>\n",
       "      <th>1</th>\n",
       "      <td>Afghanistan</td>\n",
       "      <td>2019</td>\n",
       "      <td>2065.036235</td>\n",
       "      <td>NaN</td>\n",
       "      <td>NaN</td>\n",
       "      <td>NaN</td>\n",
       "    </tr>\n",
       "    <tr>\n",
       "      <th>2</th>\n",
       "      <td>Afghanistan</td>\n",
       "      <td>2018</td>\n",
       "      <td>2033.804389</td>\n",
       "      <td>NaN</td>\n",
       "      <td>NaN</td>\n",
       "      <td>NaN</td>\n",
       "    </tr>\n",
       "    <tr>\n",
       "      <th>3</th>\n",
       "      <td>Afghanistan</td>\n",
       "      <td>2017</td>\n",
       "      <td>2058.400221</td>\n",
       "      <td>NaN</td>\n",
       "      <td>NaN</td>\n",
       "      <td>NaN</td>\n",
       "    </tr>\n",
       "    <tr>\n",
       "      <th>4</th>\n",
       "      <td>Afghanistan</td>\n",
       "      <td>2016</td>\n",
       "      <td>2057.067978</td>\n",
       "      <td>NaN</td>\n",
       "      <td>NaN</td>\n",
       "      <td>NaN</td>\n",
       "    </tr>\n",
       "  </tbody>\n",
       "</table>\n",
       "</div>"
      ],
      "text/plain": [
       "       Country  Year  GDP_Per_Capita  Internet_Users_Pct  Unnamed: 4  \\\n",
       "0  Afghanistan  2020     1970.560169                 NaN         NaN   \n",
       "1  Afghanistan  2019     2065.036235                 NaN         NaN   \n",
       "2  Afghanistan  2018     2033.804389                 NaN         NaN   \n",
       "3  Afghanistan  2017     2058.400221                 NaN         NaN   \n",
       "4  Afghanistan  2016     2057.067978                 NaN         NaN   \n",
       "\n",
       "   Unnamed: 5  \n",
       "0         NaN  \n",
       "1         NaN  \n",
       "2         NaN  \n",
       "3         NaN  \n",
       "4         NaN  "
      ]
     },
     "execution_count": 88,
     "metadata": {},
     "output_type": "execute_result"
    }
   ],
   "source": [
    "gdp_and_internet_use.head()"
   ]
  },
  {
   "cell_type": "markdown",
   "id": "4263dee0",
   "metadata": {},
   "source": [
    "15. Look at the last five rows to make sure the data is clean and as expected"
   ]
  },
  {
   "cell_type": "code",
   "execution_count": 89,
   "id": "ade2f876",
   "metadata": {},
   "outputs": [
    {
     "data": {
      "text/html": [
       "<div>\n",
       "<style scoped>\n",
       "    .dataframe tbody tr th:only-of-type {\n",
       "        vertical-align: middle;\n",
       "    }\n",
       "\n",
       "    .dataframe tbody tr th {\n",
       "        vertical-align: top;\n",
       "    }\n",
       "\n",
       "    .dataframe thead th {\n",
       "        text-align: right;\n",
       "    }\n",
       "</style>\n",
       "<table border=\"1\" class=\"dataframe\">\n",
       "  <thead>\n",
       "    <tr style=\"text-align: right;\">\n",
       "      <th></th>\n",
       "      <th>Country</th>\n",
       "      <th>Year</th>\n",
       "      <th>GDP_Per_Capita</th>\n",
       "      <th>Internet_Users_Pct</th>\n",
       "      <th>Unnamed: 4</th>\n",
       "      <th>Unnamed: 5</th>\n",
       "    </tr>\n",
       "  </thead>\n",
       "  <tbody>\n",
       "    <tr>\n",
       "      <th>8077</th>\n",
       "      <td>Zimbabwe</td>\n",
       "      <td>1997</td>\n",
       "      <td>NaN</td>\n",
       "      <td>0.033080</td>\n",
       "      <td>NaN</td>\n",
       "      <td>NaN</td>\n",
       "    </tr>\n",
       "    <tr>\n",
       "      <th>8078</th>\n",
       "      <td>Zimbabwe</td>\n",
       "      <td>1996</td>\n",
       "      <td>NaN</td>\n",
       "      <td>0.016790</td>\n",
       "      <td>NaN</td>\n",
       "      <td>NaN</td>\n",
       "    </tr>\n",
       "    <tr>\n",
       "      <th>8079</th>\n",
       "      <td>Zimbabwe</td>\n",
       "      <td>1995</td>\n",
       "      <td>NaN</td>\n",
       "      <td>0.007684</td>\n",
       "      <td>NaN</td>\n",
       "      <td>NaN</td>\n",
       "    </tr>\n",
       "    <tr>\n",
       "      <th>8080</th>\n",
       "      <td>Zimbabwe</td>\n",
       "      <td>1994</td>\n",
       "      <td>NaN</td>\n",
       "      <td>0.001739</td>\n",
       "      <td>NaN</td>\n",
       "      <td>NaN</td>\n",
       "    </tr>\n",
       "    <tr>\n",
       "      <th>8081</th>\n",
       "      <td>Zimbabwe</td>\n",
       "      <td>1990</td>\n",
       "      <td>NaN</td>\n",
       "      <td>0.000000</td>\n",
       "      <td>NaN</td>\n",
       "      <td>NaN</td>\n",
       "    </tr>\n",
       "  </tbody>\n",
       "</table>\n",
       "</div>"
      ],
      "text/plain": [
       "       Country  Year  GDP_Per_Capita  Internet_Users_Pct  Unnamed: 4  \\\n",
       "8077  Zimbabwe  1997             NaN            0.033080         NaN   \n",
       "8078  Zimbabwe  1996             NaN            0.016790         NaN   \n",
       "8079  Zimbabwe  1995             NaN            0.007684         NaN   \n",
       "8080  Zimbabwe  1994             NaN            0.001739         NaN   \n",
       "8081  Zimbabwe  1990             NaN            0.000000         NaN   \n",
       "\n",
       "      Unnamed: 5  \n",
       "8077         NaN  \n",
       "8078         NaN  \n",
       "8079         NaN  \n",
       "8080         NaN  \n",
       "8081         NaN  "
      ]
     },
     "execution_count": 89,
     "metadata": {},
     "output_type": "execute_result"
    }
   ],
   "source": [
    "gdp_and_internet_use.tail()"
   ]
  },
  {
   "cell_type": "code",
   "execution_count": 90,
   "id": "425d0e99",
   "metadata": {},
   "outputs": [
    {
     "data": {
      "text/html": [
       "<div>\n",
       "<style scoped>\n",
       "    .dataframe tbody tr th:only-of-type {\n",
       "        vertical-align: middle;\n",
       "    }\n",
       "\n",
       "    .dataframe tbody tr th {\n",
       "        vertical-align: top;\n",
       "    }\n",
       "\n",
       "    .dataframe thead th {\n",
       "        text-align: right;\n",
       "    }\n",
       "</style>\n",
       "<table border=\"1\" class=\"dataframe\">\n",
       "  <thead>\n",
       "    <tr style=\"text-align: right;\">\n",
       "      <th></th>\n",
       "      <th>Country</th>\n",
       "      <th>Year</th>\n",
       "      <th>GDP_Per_Capita</th>\n",
       "    </tr>\n",
       "  </thead>\n",
       "  <tbody>\n",
       "    <tr>\n",
       "      <th>6863</th>\n",
       "      <td>United Kingdom</td>\n",
       "      <td>1996</td>\n",
       "      <td>34099.316578</td>\n",
       "    </tr>\n",
       "    <tr>\n",
       "      <th>6864</th>\n",
       "      <td>United Kingdom</td>\n",
       "      <td>1995</td>\n",
       "      <td>33375.709644</td>\n",
       "    </tr>\n",
       "    <tr>\n",
       "      <th>6865</th>\n",
       "      <td>United Kingdom</td>\n",
       "      <td>1994</td>\n",
       "      <td>32637.838742</td>\n",
       "    </tr>\n",
       "    <tr>\n",
       "      <th>6866</th>\n",
       "      <td>United Kingdom</td>\n",
       "      <td>1993</td>\n",
       "      <td>31509.189800</td>\n",
       "    </tr>\n",
       "    <tr>\n",
       "      <th>6867</th>\n",
       "      <td>United Kingdom</td>\n",
       "      <td>1992</td>\n",
       "      <td>30817.518156</td>\n",
       "    </tr>\n",
       "  </tbody>\n",
       "</table>\n",
       "</div>"
      ],
      "text/plain": [
       "             Country  Year  GDP_Per_Capita\n",
       "6863  United Kingdom  1996    34099.316578\n",
       "6864  United Kingdom  1995    33375.709644\n",
       "6865  United Kingdom  1994    32637.838742\n",
       "6866  United Kingdom  1993    31509.189800\n",
       "6867  United Kingdom  1992    30817.518156"
      ]
     },
     "execution_count": 90,
     "metadata": {},
     "output_type": "execute_result"
    }
   ],
   "source": [
    "gdp_df.tail()"
   ]
  },
  {
   "cell_type": "code",
   "execution_count": 91,
   "id": "ec9e45be",
   "metadata": {},
   "outputs": [
    {
     "data": {
      "text/html": [
       "<div>\n",
       "<style scoped>\n",
       "    .dataframe tbody tr th:only-of-type {\n",
       "        vertical-align: middle;\n",
       "    }\n",
       "\n",
       "    .dataframe tbody tr th {\n",
       "        vertical-align: top;\n",
       "    }\n",
       "\n",
       "    .dataframe thead th {\n",
       "        text-align: right;\n",
       "    }\n",
       "</style>\n",
       "<table border=\"1\" class=\"dataframe\">\n",
       "  <thead>\n",
       "    <tr style=\"text-align: right;\">\n",
       "      <th></th>\n",
       "      <th>Country</th>\n",
       "      <th>Year</th>\n",
       "      <th>GDP_Per_Capita</th>\n",
       "      <th>Internet_Users_Pct</th>\n",
       "      <th>Unnamed: 4</th>\n",
       "      <th>Unnamed: 5</th>\n",
       "    </tr>\n",
       "  </thead>\n",
       "  <tbody>\n",
       "    <tr>\n",
       "      <th>8060</th>\n",
       "      <td>Zimbabwe</td>\n",
       "      <td>2014</td>\n",
       "      <td>NaN</td>\n",
       "      <td>19.890000</td>\n",
       "      <td>NaN</td>\n",
       "      <td>NaN</td>\n",
       "    </tr>\n",
       "    <tr>\n",
       "      <th>8061</th>\n",
       "      <td>Zimbabwe</td>\n",
       "      <td>2013</td>\n",
       "      <td>NaN</td>\n",
       "      <td>18.500000</td>\n",
       "      <td>NaN</td>\n",
       "      <td>NaN</td>\n",
       "    </tr>\n",
       "    <tr>\n",
       "      <th>8062</th>\n",
       "      <td>Zimbabwe</td>\n",
       "      <td>2012</td>\n",
       "      <td>NaN</td>\n",
       "      <td>17.090000</td>\n",
       "      <td>NaN</td>\n",
       "      <td>NaN</td>\n",
       "    </tr>\n",
       "    <tr>\n",
       "      <th>8063</th>\n",
       "      <td>Zimbabwe</td>\n",
       "      <td>2011</td>\n",
       "      <td>NaN</td>\n",
       "      <td>15.700000</td>\n",
       "      <td>NaN</td>\n",
       "      <td>NaN</td>\n",
       "    </tr>\n",
       "    <tr>\n",
       "      <th>8064</th>\n",
       "      <td>Zimbabwe</td>\n",
       "      <td>2010</td>\n",
       "      <td>NaN</td>\n",
       "      <td>11.500000</td>\n",
       "      <td>NaN</td>\n",
       "      <td>NaN</td>\n",
       "    </tr>\n",
       "    <tr>\n",
       "      <th>8065</th>\n",
       "      <td>Zimbabwe</td>\n",
       "      <td>2009</td>\n",
       "      <td>NaN</td>\n",
       "      <td>11.360000</td>\n",
       "      <td>NaN</td>\n",
       "      <td>NaN</td>\n",
       "    </tr>\n",
       "    <tr>\n",
       "      <th>8066</th>\n",
       "      <td>Zimbabwe</td>\n",
       "      <td>2008</td>\n",
       "      <td>NaN</td>\n",
       "      <td>11.400000</td>\n",
       "      <td>NaN</td>\n",
       "      <td>NaN</td>\n",
       "    </tr>\n",
       "    <tr>\n",
       "      <th>8067</th>\n",
       "      <td>Zimbabwe</td>\n",
       "      <td>2007</td>\n",
       "      <td>NaN</td>\n",
       "      <td>10.850000</td>\n",
       "      <td>NaN</td>\n",
       "      <td>NaN</td>\n",
       "    </tr>\n",
       "    <tr>\n",
       "      <th>8068</th>\n",
       "      <td>Zimbabwe</td>\n",
       "      <td>2006</td>\n",
       "      <td>NaN</td>\n",
       "      <td>9.791842</td>\n",
       "      <td>NaN</td>\n",
       "      <td>NaN</td>\n",
       "    </tr>\n",
       "    <tr>\n",
       "      <th>8069</th>\n",
       "      <td>Zimbabwe</td>\n",
       "      <td>2005</td>\n",
       "      <td>NaN</td>\n",
       "      <td>8.015978</td>\n",
       "      <td>NaN</td>\n",
       "      <td>NaN</td>\n",
       "    </tr>\n",
       "    <tr>\n",
       "      <th>8070</th>\n",
       "      <td>Zimbabwe</td>\n",
       "      <td>2004</td>\n",
       "      <td>NaN</td>\n",
       "      <td>6.564045</td>\n",
       "      <td>NaN</td>\n",
       "      <td>NaN</td>\n",
       "    </tr>\n",
       "    <tr>\n",
       "      <th>8071</th>\n",
       "      <td>Zimbabwe</td>\n",
       "      <td>2003</td>\n",
       "      <td>NaN</td>\n",
       "      <td>6.394786</td>\n",
       "      <td>NaN</td>\n",
       "      <td>NaN</td>\n",
       "    </tr>\n",
       "    <tr>\n",
       "      <th>8072</th>\n",
       "      <td>Zimbabwe</td>\n",
       "      <td>2002</td>\n",
       "      <td>NaN</td>\n",
       "      <td>3.994356</td>\n",
       "      <td>NaN</td>\n",
       "      <td>NaN</td>\n",
       "    </tr>\n",
       "    <tr>\n",
       "      <th>8073</th>\n",
       "      <td>Zimbabwe</td>\n",
       "      <td>2001</td>\n",
       "      <td>NaN</td>\n",
       "      <td>0.799846</td>\n",
       "      <td>NaN</td>\n",
       "      <td>NaN</td>\n",
       "    </tr>\n",
       "    <tr>\n",
       "      <th>8074</th>\n",
       "      <td>Zimbabwe</td>\n",
       "      <td>2000</td>\n",
       "      <td>NaN</td>\n",
       "      <td>0.401434</td>\n",
       "      <td>NaN</td>\n",
       "      <td>NaN</td>\n",
       "    </tr>\n",
       "    <tr>\n",
       "      <th>8075</th>\n",
       "      <td>Zimbabwe</td>\n",
       "      <td>1999</td>\n",
       "      <td>NaN</td>\n",
       "      <td>0.161676</td>\n",
       "      <td>NaN</td>\n",
       "      <td>NaN</td>\n",
       "    </tr>\n",
       "    <tr>\n",
       "      <th>8076</th>\n",
       "      <td>Zimbabwe</td>\n",
       "      <td>1998</td>\n",
       "      <td>NaN</td>\n",
       "      <td>0.081648</td>\n",
       "      <td>NaN</td>\n",
       "      <td>NaN</td>\n",
       "    </tr>\n",
       "    <tr>\n",
       "      <th>8077</th>\n",
       "      <td>Zimbabwe</td>\n",
       "      <td>1997</td>\n",
       "      <td>NaN</td>\n",
       "      <td>0.033080</td>\n",
       "      <td>NaN</td>\n",
       "      <td>NaN</td>\n",
       "    </tr>\n",
       "    <tr>\n",
       "      <th>8078</th>\n",
       "      <td>Zimbabwe</td>\n",
       "      <td>1996</td>\n",
       "      <td>NaN</td>\n",
       "      <td>0.016790</td>\n",
       "      <td>NaN</td>\n",
       "      <td>NaN</td>\n",
       "    </tr>\n",
       "    <tr>\n",
       "      <th>8079</th>\n",
       "      <td>Zimbabwe</td>\n",
       "      <td>1995</td>\n",
       "      <td>NaN</td>\n",
       "      <td>0.007684</td>\n",
       "      <td>NaN</td>\n",
       "      <td>NaN</td>\n",
       "    </tr>\n",
       "    <tr>\n",
       "      <th>8080</th>\n",
       "      <td>Zimbabwe</td>\n",
       "      <td>1994</td>\n",
       "      <td>NaN</td>\n",
       "      <td>0.001739</td>\n",
       "      <td>NaN</td>\n",
       "      <td>NaN</td>\n",
       "    </tr>\n",
       "    <tr>\n",
       "      <th>8081</th>\n",
       "      <td>Zimbabwe</td>\n",
       "      <td>1990</td>\n",
       "      <td>NaN</td>\n",
       "      <td>0.000000</td>\n",
       "      <td>NaN</td>\n",
       "      <td>NaN</td>\n",
       "    </tr>\n",
       "  </tbody>\n",
       "</table>\n",
       "</div>"
      ],
      "text/plain": [
       "       Country  Year  GDP_Per_Capita  Internet_Users_Pct  Unnamed: 4  \\\n",
       "8060  Zimbabwe  2014             NaN           19.890000         NaN   \n",
       "8061  Zimbabwe  2013             NaN           18.500000         NaN   \n",
       "8062  Zimbabwe  2012             NaN           17.090000         NaN   \n",
       "8063  Zimbabwe  2011             NaN           15.700000         NaN   \n",
       "8064  Zimbabwe  2010             NaN           11.500000         NaN   \n",
       "8065  Zimbabwe  2009             NaN           11.360000         NaN   \n",
       "8066  Zimbabwe  2008             NaN           11.400000         NaN   \n",
       "8067  Zimbabwe  2007             NaN           10.850000         NaN   \n",
       "8068  Zimbabwe  2006             NaN            9.791842         NaN   \n",
       "8069  Zimbabwe  2005             NaN            8.015978         NaN   \n",
       "8070  Zimbabwe  2004             NaN            6.564045         NaN   \n",
       "8071  Zimbabwe  2003             NaN            6.394786         NaN   \n",
       "8072  Zimbabwe  2002             NaN            3.994356         NaN   \n",
       "8073  Zimbabwe  2001             NaN            0.799846         NaN   \n",
       "8074  Zimbabwe  2000             NaN            0.401434         NaN   \n",
       "8075  Zimbabwe  1999             NaN            0.161676         NaN   \n",
       "8076  Zimbabwe  1998             NaN            0.081648         NaN   \n",
       "8077  Zimbabwe  1997             NaN            0.033080         NaN   \n",
       "8078  Zimbabwe  1996             NaN            0.016790         NaN   \n",
       "8079  Zimbabwe  1995             NaN            0.007684         NaN   \n",
       "8080  Zimbabwe  1994             NaN            0.001739         NaN   \n",
       "8081  Zimbabwe  1990             NaN            0.000000         NaN   \n",
       "\n",
       "      Unnamed: 5  \n",
       "8060         NaN  \n",
       "8061         NaN  \n",
       "8062         NaN  \n",
       "8063         NaN  \n",
       "8064         NaN  \n",
       "8065         NaN  \n",
       "8066         NaN  \n",
       "8067         NaN  \n",
       "8068         NaN  \n",
       "8069         NaN  \n",
       "8070         NaN  \n",
       "8071         NaN  \n",
       "8072         NaN  \n",
       "8073         NaN  \n",
       "8074         NaN  \n",
       "8075         NaN  \n",
       "8076         NaN  \n",
       "8077         NaN  \n",
       "8078         NaN  \n",
       "8079         NaN  \n",
       "8080         NaN  \n",
       "8081         NaN  "
      ]
     },
     "execution_count": 91,
     "metadata": {},
     "output_type": "execute_result"
    }
   ],
   "source": [
    "gdp_and_internet_use[gdp_and_internet_use['Country'] =='Zimbabwe']"
   ]
  },
  {
   "cell_type": "markdown",
   "id": "5968089e",
   "metadata": {},
   "source": [
    "16. Subset the combined DataFrame to keep only the data for 2004, 2009, and 2014. Check that this happened correctly."
   ]
  },
  {
   "cell_type": "code",
   "execution_count": 92,
   "id": "6fa9ee19",
   "metadata": {},
   "outputs": [
    {
     "data": {
      "text/html": [
       "<div>\n",
       "<style scoped>\n",
       "    .dataframe tbody tr th:only-of-type {\n",
       "        vertical-align: middle;\n",
       "    }\n",
       "\n",
       "    .dataframe tbody tr th {\n",
       "        vertical-align: top;\n",
       "    }\n",
       "\n",
       "    .dataframe thead th {\n",
       "        text-align: right;\n",
       "    }\n",
       "</style>\n",
       "<table border=\"1\" class=\"dataframe\">\n",
       "  <thead>\n",
       "    <tr style=\"text-align: right;\">\n",
       "      <th></th>\n",
       "      <th>Country</th>\n",
       "      <th>Year</th>\n",
       "      <th>GDP_Per_Capita</th>\n",
       "      <th>Internet_Users_Pct</th>\n",
       "      <th>Unnamed: 4</th>\n",
       "      <th>Unnamed: 5</th>\n",
       "    </tr>\n",
       "  </thead>\n",
       "  <tbody>\n",
       "    <tr>\n",
       "      <th>6</th>\n",
       "      <td>Afghanistan</td>\n",
       "      <td>2014</td>\n",
       "      <td>2102.384604</td>\n",
       "      <td>6.390000</td>\n",
       "      <td>NaN</td>\n",
       "      <td>NaN</td>\n",
       "    </tr>\n",
       "    <tr>\n",
       "      <th>11</th>\n",
       "      <td>Afghanistan</td>\n",
       "      <td>2009</td>\n",
       "      <td>1758.904477</td>\n",
       "      <td>3.550000</td>\n",
       "      <td>NaN</td>\n",
       "      <td>NaN</td>\n",
       "    </tr>\n",
       "    <tr>\n",
       "      <th>16</th>\n",
       "      <td>Afghanistan</td>\n",
       "      <td>2004</td>\n",
       "      <td>1200.278013</td>\n",
       "      <td>0.105809</td>\n",
       "      <td>NaN</td>\n",
       "      <td>NaN</td>\n",
       "    </tr>\n",
       "    <tr>\n",
       "      <th>25</th>\n",
       "      <td>Africa Eastern and Southern</td>\n",
       "      <td>2014</td>\n",
       "      <td>3677.319414</td>\n",
       "      <td>NaN</td>\n",
       "      <td>NaN</td>\n",
       "      <td>NaN</td>\n",
       "    </tr>\n",
       "    <tr>\n",
       "      <th>30</th>\n",
       "      <td>Africa Eastern and Southern</td>\n",
       "      <td>2009</td>\n",
       "      <td>3461.681409</td>\n",
       "      <td>NaN</td>\n",
       "      <td>NaN</td>\n",
       "      <td>NaN</td>\n",
       "    </tr>\n",
       "  </tbody>\n",
       "</table>\n",
       "</div>"
      ],
      "text/plain": [
       "                        Country  Year  GDP_Per_Capita  Internet_Users_Pct  \\\n",
       "6                   Afghanistan  2014     2102.384604            6.390000   \n",
       "11                  Afghanistan  2009     1758.904477            3.550000   \n",
       "16                  Afghanistan  2004     1200.278013            0.105809   \n",
       "25  Africa Eastern and Southern  2014     3677.319414                 NaN   \n",
       "30  Africa Eastern and Southern  2009     3461.681409                 NaN   \n",
       "\n",
       "    Unnamed: 4  Unnamed: 5  \n",
       "6          NaN         NaN  \n",
       "11         NaN         NaN  \n",
       "16         NaN         NaN  \n",
       "25         NaN         NaN  \n",
       "30         NaN         NaN  "
      ]
     },
     "execution_count": 92,
     "metadata": {},
     "output_type": "execute_result"
    }
   ],
   "source": [
    "gdp_int_04_09_14 = gdp_and_internet_use[gdp_and_internet_use['Year'].isin([2004, 2009, 2014])]\n",
    "gdp_int_04_09_14.head()"
   ]
  },
  {
   "cell_type": "code",
   "execution_count": 93,
   "id": "8a3fe6bc",
   "metadata": {},
   "outputs": [
    {
     "data": {
      "text/html": [
       "<div>\n",
       "<style scoped>\n",
       "    .dataframe tbody tr th:only-of-type {\n",
       "        vertical-align: middle;\n",
       "    }\n",
       "\n",
       "    .dataframe tbody tr th {\n",
       "        vertical-align: top;\n",
       "    }\n",
       "\n",
       "    .dataframe thead th {\n",
       "        text-align: right;\n",
       "    }\n",
       "</style>\n",
       "<table border=\"1\" class=\"dataframe\">\n",
       "  <thead>\n",
       "    <tr style=\"text-align: right;\">\n",
       "      <th></th>\n",
       "      <th>Country</th>\n",
       "      <th>Year</th>\n",
       "      <th>GDP_Per_Capita</th>\n",
       "      <th>Internet_Users_Pct</th>\n",
       "      <th>Unnamed: 4</th>\n",
       "      <th>Unnamed: 5</th>\n",
       "    </tr>\n",
       "  </thead>\n",
       "  <tbody>\n",
       "    <tr>\n",
       "      <th>6</th>\n",
       "      <td>Afghanistan</td>\n",
       "      <td>2014</td>\n",
       "      <td>2102.384604</td>\n",
       "      <td>6.390000</td>\n",
       "      <td>NaN</td>\n",
       "      <td>NaN</td>\n",
       "    </tr>\n",
       "    <tr>\n",
       "      <th>11</th>\n",
       "      <td>Afghanistan</td>\n",
       "      <td>2009</td>\n",
       "      <td>1758.904477</td>\n",
       "      <td>3.550000</td>\n",
       "      <td>NaN</td>\n",
       "      <td>NaN</td>\n",
       "    </tr>\n",
       "    <tr>\n",
       "      <th>16</th>\n",
       "      <td>Afghanistan</td>\n",
       "      <td>2004</td>\n",
       "      <td>1200.278013</td>\n",
       "      <td>0.105809</td>\n",
       "      <td>NaN</td>\n",
       "      <td>NaN</td>\n",
       "    </tr>\n",
       "    <tr>\n",
       "      <th>25</th>\n",
       "      <td>Africa Eastern and Southern</td>\n",
       "      <td>2014</td>\n",
       "      <td>3677.319414</td>\n",
       "      <td>NaN</td>\n",
       "      <td>NaN</td>\n",
       "      <td>NaN</td>\n",
       "    </tr>\n",
       "    <tr>\n",
       "      <th>30</th>\n",
       "      <td>Africa Eastern and Southern</td>\n",
       "      <td>2009</td>\n",
       "      <td>3461.681409</td>\n",
       "      <td>NaN</td>\n",
       "      <td>NaN</td>\n",
       "      <td>NaN</td>\n",
       "    </tr>\n",
       "  </tbody>\n",
       "</table>\n",
       "</div>"
      ],
      "text/plain": [
       "                        Country  Year  GDP_Per_Capita  Internet_Users_Pct  \\\n",
       "6                   Afghanistan  2014     2102.384604            6.390000   \n",
       "11                  Afghanistan  2009     1758.904477            3.550000   \n",
       "16                  Afghanistan  2004     1200.278013            0.105809   \n",
       "25  Africa Eastern and Southern  2014     3677.319414                 NaN   \n",
       "30  Africa Eastern and Southern  2009     3461.681409                 NaN   \n",
       "\n",
       "    Unnamed: 4  Unnamed: 5  \n",
       "6          NaN         NaN  \n",
       "11         NaN         NaN  \n",
       "16         NaN         NaN  \n",
       "25         NaN         NaN  \n",
       "30         NaN         NaN  "
      ]
     },
     "execution_count": 93,
     "metadata": {},
     "output_type": "execute_result"
    }
   ],
   "source": [
    "gdp_int_04_09_14_2 = gdp_and_internet_use.query(\"Year == 2004 or Year == 2009 or Year == 2014\")\n",
    "gdp_int_04_09_14_2.head()"
   ]
  },
  {
   "cell_type": "code",
   "execution_count": 94,
   "id": "2384985e",
   "metadata": {},
   "outputs": [
    {
     "data": {
      "text/html": [
       "<div>\n",
       "<style scoped>\n",
       "    .dataframe tbody tr th:only-of-type {\n",
       "        vertical-align: middle;\n",
       "    }\n",
       "\n",
       "    .dataframe tbody tr th {\n",
       "        vertical-align: top;\n",
       "    }\n",
       "\n",
       "    .dataframe thead th {\n",
       "        text-align: right;\n",
       "    }\n",
       "</style>\n",
       "<table border=\"1\" class=\"dataframe\">\n",
       "  <thead>\n",
       "    <tr style=\"text-align: right;\">\n",
       "      <th></th>\n",
       "      <th>Country</th>\n",
       "      <th>Year</th>\n",
       "      <th>GDP_Per_Capita</th>\n",
       "      <th>Internet_Users_Pct</th>\n",
       "      <th>Unnamed: 4</th>\n",
       "      <th>Unnamed: 5</th>\n",
       "    </tr>\n",
       "  </thead>\n",
       "  <tbody>\n",
       "    <tr>\n",
       "      <th>6</th>\n",
       "      <td>Afghanistan</td>\n",
       "      <td>2014</td>\n",
       "      <td>2102.384604</td>\n",
       "      <td>6.390000</td>\n",
       "      <td>NaN</td>\n",
       "      <td>NaN</td>\n",
       "    </tr>\n",
       "    <tr>\n",
       "      <th>11</th>\n",
       "      <td>Afghanistan</td>\n",
       "      <td>2009</td>\n",
       "      <td>1758.904477</td>\n",
       "      <td>3.550000</td>\n",
       "      <td>NaN</td>\n",
       "      <td>NaN</td>\n",
       "    </tr>\n",
       "    <tr>\n",
       "      <th>16</th>\n",
       "      <td>Afghanistan</td>\n",
       "      <td>2004</td>\n",
       "      <td>1200.278013</td>\n",
       "      <td>0.105809</td>\n",
       "      <td>NaN</td>\n",
       "      <td>NaN</td>\n",
       "    </tr>\n",
       "    <tr>\n",
       "      <th>25</th>\n",
       "      <td>Africa Eastern and Southern</td>\n",
       "      <td>2014</td>\n",
       "      <td>3677.319414</td>\n",
       "      <td>NaN</td>\n",
       "      <td>NaN</td>\n",
       "      <td>NaN</td>\n",
       "    </tr>\n",
       "    <tr>\n",
       "      <th>30</th>\n",
       "      <td>Africa Eastern and Southern</td>\n",
       "      <td>2009</td>\n",
       "      <td>3461.681409</td>\n",
       "      <td>NaN</td>\n",
       "      <td>NaN</td>\n",
       "      <td>NaN</td>\n",
       "    </tr>\n",
       "  </tbody>\n",
       "</table>\n",
       "</div>"
      ],
      "text/plain": [
       "                        Country  Year  GDP_Per_Capita  Internet_Users_Pct  \\\n",
       "6                   Afghanistan  2014     2102.384604            6.390000   \n",
       "11                  Afghanistan  2009     1758.904477            3.550000   \n",
       "16                  Afghanistan  2004     1200.278013            0.105809   \n",
       "25  Africa Eastern and Southern  2014     3677.319414                 NaN   \n",
       "30  Africa Eastern and Southern  2009     3461.681409                 NaN   \n",
       "\n",
       "    Unnamed: 4  Unnamed: 5  \n",
       "6          NaN         NaN  \n",
       "11         NaN         NaN  \n",
       "16         NaN         NaN  \n",
       "25         NaN         NaN  \n",
       "30         NaN         NaN  "
      ]
     },
     "execution_count": 94,
     "metadata": {},
     "output_type": "execute_result"
    }
   ],
   "source": [
    "gdp_int_04_09_14_3 = gdp_and_internet_use[(gdp_and_internet_use[\"Year\"] == 2004) | (gdp_and_internet_use[\"Year\"] == 2009) | (gdp_and_internet_use[\"Year\"] == 2014)]\n",
    "gdp_int_04_09_14_3.head()"
   ]
  },
  {
   "cell_type": "markdown",
   "id": "68030b73",
   "metadata": {},
   "source": [
    "17. Create three new DataFrames, one for 2004, one for 2009, and one for 2014. Give them meaningful names that aren't too long"
   ]
  },
  {
   "cell_type": "code",
   "execution_count": 95,
   "id": "3b325936",
   "metadata": {},
   "outputs": [
    {
     "name": "stdout",
     "output_type": "stream",
     "text": [
      "                         Country  Year  GDP_Per_Capita  Internet_Users_Pct  \\\n",
      "16                   Afghanistan  2004     1200.278013            0.105809   \n",
      "35   Africa Eastern and Southern  2004     3093.224738                 NaN   \n",
      "66    Africa Western and Central  2004     3165.091102                 NaN   \n",
      "97                       Albania  2004     7580.138864            2.420388   \n",
      "128                      Algeria  2004    10058.426227            4.634475   \n",
      "\n",
      "     Unnamed: 4  Unnamed: 5  \n",
      "16          NaN         NaN  \n",
      "35          NaN         NaN  \n",
      "66          NaN         NaN  \n",
      "97          NaN         NaN  \n",
      "128         NaN         NaN  \n",
      "                         Country  Year  GDP_Per_Capita  Internet_Users_Pct  \\\n",
      "11                   Afghanistan  2009     1758.904477                3.55   \n",
      "30   Africa Eastern and Southern  2009     3461.681409                 NaN   \n",
      "61    Africa Western and Central  2009     3652.114030                 NaN   \n",
      "92                       Albania  2009    10313.916338               41.20   \n",
      "123                      Algeria  2009    10782.347384               11.23   \n",
      "\n",
      "     Unnamed: 4  Unnamed: 5  \n",
      "11          NaN         NaN  \n",
      "30          NaN         NaN  \n",
      "61          NaN         NaN  \n",
      "92          NaN         NaN  \n",
      "123         NaN         NaN  \n",
      "                         Country  Year  GDP_Per_Capita  Internet_Users_Pct  \\\n",
      "6                    Afghanistan  2014     2102.384604                6.39   \n",
      "25   Africa Eastern and Southern  2014     3677.319414                 NaN   \n",
      "56    Africa Western and Central  2014     4215.646000                 NaN   \n",
      "87                       Albania  2014    11586.833878               60.10   \n",
      "118                      Algeria  2014    11512.690472               18.09   \n",
      "\n",
      "     Unnamed: 4  Unnamed: 5  \n",
      "6           NaN         NaN  \n",
      "25          NaN         NaN  \n",
      "56          NaN         NaN  \n",
      "87          NaN         NaN  \n",
      "118         NaN         NaN  \n"
     ]
    }
   ],
   "source": [
    "gdp_int_04 = gdp_and_internet_use[(gdp_and_internet_use[\"Year\"] == 2004)]\n",
    "gdp_int_09 = gdp_and_internet_use[(gdp_and_internet_use[\"Year\"] == 2009)]\n",
    "gdp_int_14 = gdp_and_internet_use[(gdp_and_internet_use[\"Year\"] == 2014)]\n",
    "print(gdp_int_04.head())\n",
    "print(gdp_int_09.head())\n",
    "print(gdp_int_14.head())"
   ]
  },
  {
   "cell_type": "markdown",
   "id": "67068d65",
   "metadata": {},
   "source": [
    "18. Which country had the highest percentage of internet users in 2014? What was the percentage? (Try typing the first 3 letters of your DataFrame name and hitting the tab key for auto-complete options)"
   ]
  },
  {
   "cell_type": "code",
   "execution_count": 96,
   "id": "d462c213",
   "metadata": {},
   "outputs": [
    {
     "data": {
      "text/html": [
       "<div>\n",
       "<style scoped>\n",
       "    .dataframe tbody tr th:only-of-type {\n",
       "        vertical-align: middle;\n",
       "    }\n",
       "\n",
       "    .dataframe tbody tr th {\n",
       "        vertical-align: top;\n",
       "    }\n",
       "\n",
       "    .dataframe thead th {\n",
       "        text-align: right;\n",
       "    }\n",
       "</style>\n",
       "<table border=\"1\" class=\"dataframe\">\n",
       "  <thead>\n",
       "    <tr style=\"text-align: right;\">\n",
       "      <th></th>\n",
       "      <th>Country</th>\n",
       "      <th>Year</th>\n",
       "      <th>GDP_Per_Capita</th>\n",
       "      <th>Internet_Users_Pct</th>\n",
       "      <th>Unnamed: 4</th>\n",
       "      <th>Unnamed: 5</th>\n",
       "    </tr>\n",
       "  </thead>\n",
       "  <tbody>\n",
       "    <tr>\n",
       "      <th>2803</th>\n",
       "      <td>Iceland</td>\n",
       "      <td>2014</td>\n",
       "      <td>50450.741612</td>\n",
       "      <td>98.16</td>\n",
       "      <td>NaN</td>\n",
       "      <td>NaN</td>\n",
       "    </tr>\n",
       "  </tbody>\n",
       "</table>\n",
       "</div>"
      ],
      "text/plain": [
       "      Country  Year  GDP_Per_Capita  Internet_Users_Pct  Unnamed: 4  \\\n",
       "2803  Iceland  2014    50450.741612               98.16         NaN   \n",
       "\n",
       "      Unnamed: 5  \n",
       "2803         NaN  "
      ]
     },
     "execution_count": 96,
     "metadata": {},
     "output_type": "execute_result"
    }
   ],
   "source": [
    "gdp_int_14[(gdp_int_14['Internet_Users_Pct'] == gdp_int_14['Internet_Users_Pct'].max())]"
   ]
  },
  {
   "cell_type": "code",
   "execution_count": 97,
   "id": "8f885a69",
   "metadata": {},
   "outputs": [
    {
     "data": {
      "text/html": [
       "<div>\n",
       "<style scoped>\n",
       "    .dataframe tbody tr th:only-of-type {\n",
       "        vertical-align: middle;\n",
       "    }\n",
       "\n",
       "    .dataframe tbody tr th {\n",
       "        vertical-align: top;\n",
       "    }\n",
       "\n",
       "    .dataframe thead th {\n",
       "        text-align: right;\n",
       "    }\n",
       "</style>\n",
       "<table border=\"1\" class=\"dataframe\">\n",
       "  <thead>\n",
       "    <tr style=\"text-align: right;\">\n",
       "      <th></th>\n",
       "      <th>Country</th>\n",
       "      <th>Year</th>\n",
       "      <th>GDP_Per_Capita</th>\n",
       "      <th>Internet_Users_Pct</th>\n",
       "      <th>Unnamed: 4</th>\n",
       "      <th>Unnamed: 5</th>\n",
       "    </tr>\n",
       "  </thead>\n",
       "  <tbody>\n",
       "    <tr>\n",
       "      <th>2803</th>\n",
       "      <td>Iceland</td>\n",
       "      <td>2014</td>\n",
       "      <td>50450.741612</td>\n",
       "      <td>98.16</td>\n",
       "      <td>NaN</td>\n",
       "      <td>NaN</td>\n",
       "    </tr>\n",
       "  </tbody>\n",
       "</table>\n",
       "</div>"
      ],
      "text/plain": [
       "      Country  Year  GDP_Per_Capita  Internet_Users_Pct  Unnamed: 4  \\\n",
       "2803  Iceland  2014    50450.741612               98.16         NaN   \n",
       "\n",
       "      Unnamed: 5  \n",
       "2803         NaN  "
      ]
     },
     "execution_count": 97,
     "metadata": {},
     "output_type": "execute_result"
    }
   ],
   "source": [
    "gdp_int_14.nlargest(1, \"Internet_Users_Pct\")"
   ]
  },
  {
   "cell_type": "code",
   "execution_count": 98,
   "id": "17526523",
   "metadata": {},
   "outputs": [
    {
     "data": {
      "text/html": [
       "<div>\n",
       "<style scoped>\n",
       "    .dataframe tbody tr th:only-of-type {\n",
       "        vertical-align: middle;\n",
       "    }\n",
       "\n",
       "    .dataframe tbody tr th {\n",
       "        vertical-align: top;\n",
       "    }\n",
       "\n",
       "    .dataframe thead th {\n",
       "        text-align: right;\n",
       "    }\n",
       "</style>\n",
       "<table border=\"1\" class=\"dataframe\">\n",
       "  <thead>\n",
       "    <tr style=\"text-align: right;\">\n",
       "      <th></th>\n",
       "      <th>Country</th>\n",
       "      <th>Year</th>\n",
       "      <th>GDP_Per_Capita</th>\n",
       "      <th>Internet_Users_Pct</th>\n",
       "      <th>Unnamed: 4</th>\n",
       "      <th>Unnamed: 5</th>\n",
       "    </tr>\n",
       "  </thead>\n",
       "  <tbody>\n",
       "    <tr>\n",
       "      <th>2803</th>\n",
       "      <td>Iceland</td>\n",
       "      <td>2014</td>\n",
       "      <td>50450.741612</td>\n",
       "      <td>98.16</td>\n",
       "      <td>NaN</td>\n",
       "      <td>NaN</td>\n",
       "    </tr>\n",
       "  </tbody>\n",
       "</table>\n",
       "</div>"
      ],
      "text/plain": [
       "      Country  Year  GDP_Per_Capita  Internet_Users_Pct  Unnamed: 4  \\\n",
       "2803  Iceland  2014    50450.741612               98.16         NaN   \n",
       "\n",
       "      Unnamed: 5  \n",
       "2803         NaN  "
      ]
     },
     "execution_count": 98,
     "metadata": {},
     "output_type": "execute_result"
    }
   ],
   "source": [
    "gdp_int_14.sort_values(by = 'Internet_Users_Pct', ascending = False).head(1)"
   ]
  },
  {
   "cell_type": "markdown",
   "id": "72faa3cd",
   "metadata": {},
   "source": [
    "19. Which country had the lowest percentage of internet users in 2014? What was the percentage?"
   ]
  },
  {
   "cell_type": "code",
   "execution_count": 99,
   "id": "bba35a6c",
   "metadata": {},
   "outputs": [
    {
     "data": {
      "text/html": [
       "<div>\n",
       "<style scoped>\n",
       "    .dataframe tbody tr th:only-of-type {\n",
       "        vertical-align: middle;\n",
       "    }\n",
       "\n",
       "    .dataframe tbody tr th {\n",
       "        vertical-align: top;\n",
       "    }\n",
       "\n",
       "    .dataframe thead th {\n",
       "        text-align: right;\n",
       "    }\n",
       "</style>\n",
       "<table border=\"1\" class=\"dataframe\">\n",
       "  <thead>\n",
       "    <tr style=\"text-align: right;\">\n",
       "      <th></th>\n",
       "      <th>Country</th>\n",
       "      <th>Year</th>\n",
       "      <th>GDP_Per_Capita</th>\n",
       "      <th>Internet_Users_Pct</th>\n",
       "      <th>Unnamed: 4</th>\n",
       "      <th>Unnamed: 5</th>\n",
       "    </tr>\n",
       "  </thead>\n",
       "  <tbody>\n",
       "    <tr>\n",
       "      <th>7086</th>\n",
       "      <td>Dem. People's Rep. of Korea</td>\n",
       "      <td>2014</td>\n",
       "      <td>NaN</td>\n",
       "      <td>0.0</td>\n",
       "      <td>NaN</td>\n",
       "      <td>NaN</td>\n",
       "    </tr>\n",
       "  </tbody>\n",
       "</table>\n",
       "</div>"
      ],
      "text/plain": [
       "                          Country  Year  GDP_Per_Capita  Internet_Users_Pct  \\\n",
       "7086  Dem. People's Rep. of Korea  2014             NaN                 0.0   \n",
       "\n",
       "      Unnamed: 4  Unnamed: 5  \n",
       "7086         NaN         NaN  "
      ]
     },
     "execution_count": 99,
     "metadata": {},
     "output_type": "execute_result"
    }
   ],
   "source": [
    "gdp_int_14[gdp_int_14['Internet_Users_Pct'] == gdp_int_14['Internet_Users_Pct'].min()]"
   ]
  },
  {
   "cell_type": "code",
   "execution_count": 100,
   "id": "6a823cee",
   "metadata": {},
   "outputs": [
    {
     "data": {
      "text/html": [
       "<div>\n",
       "<style scoped>\n",
       "    .dataframe tbody tr th:only-of-type {\n",
       "        vertical-align: middle;\n",
       "    }\n",
       "\n",
       "    .dataframe tbody tr th {\n",
       "        vertical-align: top;\n",
       "    }\n",
       "\n",
       "    .dataframe thead th {\n",
       "        text-align: right;\n",
       "    }\n",
       "</style>\n",
       "<table border=\"1\" class=\"dataframe\">\n",
       "  <thead>\n",
       "    <tr style=\"text-align: right;\">\n",
       "      <th></th>\n",
       "      <th>Country</th>\n",
       "      <th>Year</th>\n",
       "      <th>GDP_Per_Capita</th>\n",
       "      <th>Internet_Users_Pct</th>\n",
       "      <th>Unnamed: 4</th>\n",
       "      <th>Unnamed: 5</th>\n",
       "    </tr>\n",
       "  </thead>\n",
       "  <tbody>\n",
       "    <tr>\n",
       "      <th>7086</th>\n",
       "      <td>Dem. People's Rep. of Korea</td>\n",
       "      <td>2014</td>\n",
       "      <td>NaN</td>\n",
       "      <td>0.0</td>\n",
       "      <td>NaN</td>\n",
       "      <td>NaN</td>\n",
       "    </tr>\n",
       "  </tbody>\n",
       "</table>\n",
       "</div>"
      ],
      "text/plain": [
       "                          Country  Year  GDP_Per_Capita  Internet_Users_Pct  \\\n",
       "7086  Dem. People's Rep. of Korea  2014             NaN                 0.0   \n",
       "\n",
       "      Unnamed: 4  Unnamed: 5  \n",
       "7086         NaN         NaN  "
      ]
     },
     "execution_count": 100,
     "metadata": {},
     "output_type": "execute_result"
    }
   ],
   "source": [
    "gdp_int_14.nsmallest(1, \"Internet_Users_Pct\")"
   ]
  },
  {
   "cell_type": "code",
   "execution_count": 101,
   "id": "48522181",
   "metadata": {},
   "outputs": [
    {
     "data": {
      "text/html": [
       "<div>\n",
       "<style scoped>\n",
       "    .dataframe tbody tr th:only-of-type {\n",
       "        vertical-align: middle;\n",
       "    }\n",
       "\n",
       "    .dataframe tbody tr th {\n",
       "        vertical-align: top;\n",
       "    }\n",
       "\n",
       "    .dataframe thead th {\n",
       "        text-align: right;\n",
       "    }\n",
       "</style>\n",
       "<table border=\"1\" class=\"dataframe\">\n",
       "  <thead>\n",
       "    <tr style=\"text-align: right;\">\n",
       "      <th></th>\n",
       "      <th>Country</th>\n",
       "      <th>Year</th>\n",
       "      <th>GDP_Per_Capita</th>\n",
       "      <th>Internet_Users_Pct</th>\n",
       "      <th>Unnamed: 4</th>\n",
       "      <th>Unnamed: 5</th>\n",
       "    </tr>\n",
       "  </thead>\n",
       "  <tbody>\n",
       "    <tr>\n",
       "      <th>7086</th>\n",
       "      <td>Dem. People's Rep. of Korea</td>\n",
       "      <td>2014</td>\n",
       "      <td>NaN</td>\n",
       "      <td>0.0</td>\n",
       "      <td>NaN</td>\n",
       "      <td>NaN</td>\n",
       "    </tr>\n",
       "  </tbody>\n",
       "</table>\n",
       "</div>"
      ],
      "text/plain": [
       "                          Country  Year  GDP_Per_Capita  Internet_Users_Pct  \\\n",
       "7086  Dem. People's Rep. of Korea  2014             NaN                 0.0   \n",
       "\n",
       "      Unnamed: 4  Unnamed: 5  \n",
       "7086         NaN         NaN  "
      ]
     },
     "execution_count": 101,
     "metadata": {},
     "output_type": "execute_result"
    }
   ],
   "source": [
    "gdp_int_14.sort_values(by = 'Internet_Users_Pct').head(1)"
   ]
  },
  {
   "cell_type": "markdown",
   "id": "d271a38c",
   "metadata": {},
   "source": [
    "20. Repeat for 2004 and 2009\n",
    "  "
   ]
  },
  {
   "cell_type": "markdown",
   "id": "c4171428",
   "metadata": {},
   "source": [
    "highest 2009:"
   ]
  },
  {
   "cell_type": "code",
   "execution_count": 102,
   "id": "2b473b5c",
   "metadata": {},
   "outputs": [
    {
     "data": {
      "text/html": [
       "<div>\n",
       "<style scoped>\n",
       "    .dataframe tbody tr th:only-of-type {\n",
       "        vertical-align: middle;\n",
       "    }\n",
       "\n",
       "    .dataframe tbody tr th {\n",
       "        vertical-align: top;\n",
       "    }\n",
       "\n",
       "    .dataframe thead th {\n",
       "        text-align: right;\n",
       "    }\n",
       "</style>\n",
       "<table border=\"1\" class=\"dataframe\">\n",
       "  <thead>\n",
       "    <tr style=\"text-align: right;\">\n",
       "      <th></th>\n",
       "      <th>Country</th>\n",
       "      <th>Year</th>\n",
       "      <th>GDP_Per_Capita</th>\n",
       "      <th>Internet_Users_Pct</th>\n",
       "      <th>Unnamed: 4</th>\n",
       "      <th>Unnamed: 5</th>\n",
       "    </tr>\n",
       "  </thead>\n",
       "  <tbody>\n",
       "    <tr>\n",
       "      <th>2808</th>\n",
       "      <td>Iceland</td>\n",
       "      <td>2009</td>\n",
       "      <td>48770.950337</td>\n",
       "      <td>93.0</td>\n",
       "      <td>NaN</td>\n",
       "      <td>NaN</td>\n",
       "    </tr>\n",
       "  </tbody>\n",
       "</table>\n",
       "</div>"
      ],
      "text/plain": [
       "      Country  Year  GDP_Per_Capita  Internet_Users_Pct  Unnamed: 4  \\\n",
       "2808  Iceland  2009    48770.950337                93.0         NaN   \n",
       "\n",
       "      Unnamed: 5  \n",
       "2808         NaN  "
      ]
     },
     "execution_count": 102,
     "metadata": {},
     "output_type": "execute_result"
    }
   ],
   "source": [
    "gdp_int_09.nlargest(1, \"Internet_Users_Pct\")"
   ]
  },
  {
   "cell_type": "markdown",
   "id": "e371dfed",
   "metadata": {},
   "source": [
    "lowest 2009:"
   ]
  },
  {
   "cell_type": "code",
   "execution_count": 104,
   "id": "d35b86a4",
   "metadata": {},
   "outputs": [
    {
     "data": {
      "text/html": [
       "<div>\n",
       "<style scoped>\n",
       "    .dataframe tbody tr th:only-of-type {\n",
       "        vertical-align: middle;\n",
       "    }\n",
       "\n",
       "    .dataframe tbody tr th {\n",
       "        vertical-align: top;\n",
       "    }\n",
       "\n",
       "    .dataframe thead th {\n",
       "        text-align: right;\n",
       "    }\n",
       "</style>\n",
       "<table border=\"1\" class=\"dataframe\">\n",
       "  <thead>\n",
       "    <tr style=\"text-align: right;\">\n",
       "      <th></th>\n",
       "      <th>Country</th>\n",
       "      <th>Year</th>\n",
       "      <th>GDP_Per_Capita</th>\n",
       "      <th>Internet_Users_Pct</th>\n",
       "      <th>Unnamed: 4</th>\n",
       "      <th>Unnamed: 5</th>\n",
       "    </tr>\n",
       "  </thead>\n",
       "  <tbody>\n",
       "    <tr>\n",
       "      <th>7090</th>\n",
       "      <td>Dem. People's Rep. of Korea</td>\n",
       "      <td>2009</td>\n",
       "      <td>NaN</td>\n",
       "      <td>0.0</td>\n",
       "      <td>NaN</td>\n",
       "      <td>NaN</td>\n",
       "    </tr>\n",
       "  </tbody>\n",
       "</table>\n",
       "</div>"
      ],
      "text/plain": [
       "                          Country  Year  GDP_Per_Capita  Internet_Users_Pct  \\\n",
       "7090  Dem. People's Rep. of Korea  2009             NaN                 0.0   \n",
       "\n",
       "      Unnamed: 4  Unnamed: 5  \n",
       "7090         NaN         NaN  "
      ]
     },
     "execution_count": 104,
     "metadata": {},
     "output_type": "execute_result"
    }
   ],
   "source": [
    "gdp_int_09.nsmallest(1, \"Internet_Users_Pct\")"
   ]
  },
  {
   "cell_type": "markdown",
   "id": "5fdedab7",
   "metadata": {},
   "source": [
    "highest 2004"
   ]
  },
  {
   "cell_type": "code",
   "execution_count": 103,
   "id": "9ab008c7",
   "metadata": {},
   "outputs": [
    {
     "data": {
      "text/html": [
       "<div>\n",
       "<style scoped>\n",
       "    .dataframe tbody tr th:only-of-type {\n",
       "        vertical-align: middle;\n",
       "    }\n",
       "\n",
       "    .dataframe tbody tr th {\n",
       "        vertical-align: top;\n",
       "    }\n",
       "\n",
       "    .dataframe thead th {\n",
       "        text-align: right;\n",
       "    }\n",
       "</style>\n",
       "<table border=\"1\" class=\"dataframe\">\n",
       "  <thead>\n",
       "    <tr style=\"text-align: right;\">\n",
       "      <th></th>\n",
       "      <th>Country</th>\n",
       "      <th>Year</th>\n",
       "      <th>GDP_Per_Capita</th>\n",
       "      <th>Internet_Users_Pct</th>\n",
       "      <th>Unnamed: 4</th>\n",
       "      <th>Unnamed: 5</th>\n",
       "    </tr>\n",
       "  </thead>\n",
       "  <tbody>\n",
       "    <tr>\n",
       "      <th>6298</th>\n",
       "      <td>Sweden</td>\n",
       "      <td>2004</td>\n",
       "      <td>44354.391062</td>\n",
       "      <td>83.89</td>\n",
       "      <td>NaN</td>\n",
       "      <td>NaN</td>\n",
       "    </tr>\n",
       "  </tbody>\n",
       "</table>\n",
       "</div>"
      ],
      "text/plain": [
       "     Country  Year  GDP_Per_Capita  Internet_Users_Pct  Unnamed: 4  Unnamed: 5\n",
       "6298  Sweden  2004    44354.391062               83.89         NaN         NaN"
      ]
     },
     "execution_count": 103,
     "metadata": {},
     "output_type": "execute_result"
    }
   ],
   "source": [
    "gdp_int_04.nlargest(1, \"Internet_Users_Pct\")"
   ]
  },
  {
   "cell_type": "markdown",
   "id": "12aa8f18",
   "metadata": {},
   "source": [
    "lowest 2004:"
   ]
  },
  {
   "cell_type": "code",
   "execution_count": 105,
   "id": "74de0051",
   "metadata": {},
   "outputs": [
    {
     "data": {
      "text/html": [
       "<div>\n",
       "<style scoped>\n",
       "    .dataframe tbody tr th:only-of-type {\n",
       "        vertical-align: middle;\n",
       "    }\n",
       "\n",
       "    .dataframe tbody tr th {\n",
       "        vertical-align: top;\n",
       "    }\n",
       "\n",
       "    .dataframe thead th {\n",
       "        text-align: right;\n",
       "    }\n",
       "</style>\n",
       "<table border=\"1\" class=\"dataframe\">\n",
       "  <thead>\n",
       "    <tr style=\"text-align: right;\">\n",
       "      <th></th>\n",
       "      <th>Country</th>\n",
       "      <th>Year</th>\n",
       "      <th>GDP_Per_Capita</th>\n",
       "      <th>Internet_Users_Pct</th>\n",
       "      <th>Unnamed: 4</th>\n",
       "      <th>Unnamed: 5</th>\n",
       "    </tr>\n",
       "  </thead>\n",
       "  <tbody>\n",
       "    <tr>\n",
       "      <th>7095</th>\n",
       "      <td>Dem. People's Rep. of Korea</td>\n",
       "      <td>2004</td>\n",
       "      <td>NaN</td>\n",
       "      <td>0.0</td>\n",
       "      <td>NaN</td>\n",
       "      <td>NaN</td>\n",
       "    </tr>\n",
       "  </tbody>\n",
       "</table>\n",
       "</div>"
      ],
      "text/plain": [
       "                          Country  Year  GDP_Per_Capita  Internet_Users_Pct  \\\n",
       "7095  Dem. People's Rep. of Korea  2004             NaN                 0.0   \n",
       "\n",
       "      Unnamed: 4  Unnamed: 5  \n",
       "7095         NaN         NaN  "
      ]
     },
     "execution_count": 105,
     "metadata": {},
     "output_type": "execute_result"
    }
   ],
   "source": [
    "gdp_int_04.nsmallest(1, \"Internet_Users_Pct\")"
   ]
  },
  {
   "cell_type": "markdown",
   "id": "21f7dc05",
   "metadata": {},
   "source": [
    "21. Which country had the highest gdp per capita in 2014? What was the gdp per capita"
   ]
  },
  {
   "cell_type": "code",
   "execution_count": 106,
   "id": "872c18d2",
   "metadata": {},
   "outputs": [
    {
     "data": {
      "text/html": [
       "<div>\n",
       "<style scoped>\n",
       "    .dataframe tbody tr th:only-of-type {\n",
       "        vertical-align: middle;\n",
       "    }\n",
       "\n",
       "    .dataframe tbody tr th {\n",
       "        vertical-align: top;\n",
       "    }\n",
       "\n",
       "    .dataframe thead th {\n",
       "        text-align: right;\n",
       "    }\n",
       "</style>\n",
       "<table border=\"1\" class=\"dataframe\">\n",
       "  <thead>\n",
       "    <tr style=\"text-align: right;\">\n",
       "      <th></th>\n",
       "      <th>Country</th>\n",
       "      <th>Year</th>\n",
       "      <th>GDP_Per_Capita</th>\n",
       "      <th>Internet_Users_Pct</th>\n",
       "      <th>Unnamed: 4</th>\n",
       "      <th>Unnamed: 5</th>\n",
       "    </tr>\n",
       "  </thead>\n",
       "  <tbody>\n",
       "    <tr>\n",
       "      <th>3919</th>\n",
       "      <td>Macao SAR, China</td>\n",
       "      <td>2014</td>\n",
       "      <td>155201.740571</td>\n",
       "      <td>NaN</td>\n",
       "      <td>NaN</td>\n",
       "      <td>NaN</td>\n",
       "    </tr>\n",
       "  </tbody>\n",
       "</table>\n",
       "</div>"
      ],
      "text/plain": [
       "               Country  Year  GDP_Per_Capita  Internet_Users_Pct  Unnamed: 4  \\\n",
       "3919  Macao SAR, China  2014   155201.740571                 NaN         NaN   \n",
       "\n",
       "      Unnamed: 5  \n",
       "3919         NaN  "
      ]
     },
     "execution_count": 106,
     "metadata": {},
     "output_type": "execute_result"
    }
   ],
   "source": [
    "gdp_int_14.nlargest(1, \"GDP_Per_Capita\")"
   ]
  },
  {
   "cell_type": "markdown",
   "id": "aafb5670",
   "metadata": {},
   "source": [
    "22. Which country had the lowest gdp per capita in 2014? What was the gdp per capita?"
   ]
  },
  {
   "cell_type": "code",
   "execution_count": 108,
   "id": "b8299ba3",
   "metadata": {},
   "outputs": [
    {
     "data": {
      "text/html": [
       "<div>\n",
       "<style scoped>\n",
       "    .dataframe tbody tr th:only-of-type {\n",
       "        vertical-align: middle;\n",
       "    }\n",
       "\n",
       "    .dataframe tbody tr th {\n",
       "        vertical-align: top;\n",
       "    }\n",
       "\n",
       "    .dataframe thead th {\n",
       "        text-align: right;\n",
       "    }\n",
       "</style>\n",
       "<table border=\"1\" class=\"dataframe\">\n",
       "  <thead>\n",
       "    <tr style=\"text-align: right;\">\n",
       "      <th></th>\n",
       "      <th>Country</th>\n",
       "      <th>Year</th>\n",
       "      <th>GDP_Per_Capita</th>\n",
       "      <th>Internet_Users_Pct</th>\n",
       "      <th>Unnamed: 4</th>\n",
       "      <th>Unnamed: 5</th>\n",
       "    </tr>\n",
       "  </thead>\n",
       "  <tbody>\n",
       "    <tr>\n",
       "      <th>1142</th>\n",
       "      <td>Central African Republic</td>\n",
       "      <td>2014</td>\n",
       "      <td>822.611195</td>\n",
       "      <td>NaN</td>\n",
       "      <td>NaN</td>\n",
       "      <td>NaN</td>\n",
       "    </tr>\n",
       "  </tbody>\n",
       "</table>\n",
       "</div>"
      ],
      "text/plain": [
       "                       Country  Year  GDP_Per_Capita  Internet_Users_Pct  \\\n",
       "1142  Central African Republic  2014      822.611195                 NaN   \n",
       "\n",
       "      Unnamed: 4  Unnamed: 5  \n",
       "1142         NaN         NaN  "
      ]
     },
     "execution_count": 108,
     "metadata": {},
     "output_type": "execute_result"
    }
   ],
   "source": [
    "gdp_int_14.nsmallest(1, \"GDP_Per_Capita\")"
   ]
  },
  {
   "cell_type": "markdown",
   "id": "5e01a42c",
   "metadata": {},
   "source": [
    "23. Create some scatterplots:\n",
    "a. 2004 Percent Using the Internet vs GDP Per Capita  \n",
    "b. 2009 Percent Using the Internet vs GDP Per Capita  \n",
    "c. 2014 Percent Using the Internet vs GDP Per Capita  "
   ]
  },
  {
   "cell_type": "markdown",
   "id": "af8e4d08",
   "metadata": {},
   "source": [
    "2004, using pyplot"
   ]
  },
  {
   "cell_type": "code",
   "execution_count": 109,
   "id": "9842e7a5",
   "metadata": {},
   "outputs": [
    {
     "data": {
      "image/png": "[encoded data removed]",
      "text/plain": [
       "<Figure size 432x288 with 1 Axes>"
      ]
     },
     "metadata": {
      "needs_background": "light"
     },
     "output_type": "display_data"
    }
   ],
   "source": [
    "plt.scatter(gdp_int_04.GDP_Per_Capita, \n",
    "            gdp_int_04.Internet_Users_Pct)\n",
    "#Note: X-axis should be your independent variable, while the y-axis is the dependent. \n",
    "#Internet availability is more likely to be dependent on GDP than vice versa.\n",
    "\n",
    "plt.title('GDP vs Internet Use: 2004')\n",
    "plt.xlabel('GDP Per Capita')\n",
    "plt.ylabel('Internet Use %'); #The colon suppresses the ugly text at the top of the output"
   ]
  },
  {
   "cell_type": "markdown",
   "id": "33ffb698",
   "metadata": {},
   "source": [
    "2004, using seaborn"
   ]
  },
  {
   "cell_type": "code",
   "execution_count": 110,
   "id": "44ecb828",
   "metadata": {},
   "outputs": [
    {
     "data": {
      "image/png": "[encoded data removed]",
      "text/plain": [
       "<Figure size 432x288 with 1 Axes>"
      ]
     },
     "metadata": {
      "needs_background": "light"
     },
     "output_type": "display_data"
    }
   ],
   "source": [
    "sns_2004 = sns.scatterplot(x = gdp_int_04.GDP_Per_Capita, \n",
    "                           y = gdp_int_04.Internet_Users_Pct)#.set(Title = 'GDP vs Internet Use: 2004')\n",
    "sns_2004.set(xlabel='GDP Per Capita', \n",
    "             ylabel='Internet Use %', \n",
    "             title='GDP vs Internet Use: 2004');\n",
    "\n",
    "#plt.title('GDP vs Internet Use: 2004')\n",
    "#plt.xlabel('GDP per capita')\n",
    "#plt.ylabel('% Internet Use')"
   ]
  },
  {
   "cell_type": "markdown",
   "id": "e829c49b",
   "metadata": {},
   "source": [
    "2004, using seaborn regplot to add trendline:"
   ]
  },
  {
   "cell_type": "code",
   "execution_count": 111,
   "id": "22917f8b",
   "metadata": {},
   "outputs": [
    {
     "data": {
      "image/png": "[encoded data removed]",
      "text/plain": [
       "<Figure size 432x288 with 1 Axes>"
      ]
     },
     "metadata": {
      "needs_background": "light"
     },
     "output_type": "display_data"
    }
   ],
   "source": [
    "sns.regplot(x = gdp_int_04.GDP_Per_Capita, \n",
    "            y = gdp_int_04.Internet_Users_Pct, \n",
    "            ci=None)\n",
    "plt.title('GDP vs Internet Use: 2004')\n",
    "plt.xlabel('GDP per capita')\n",
    "plt.ylabel('% Internet Use');"
   ]
  },
  {
   "cell_type": "markdown",
   "id": "88706bfa",
   "metadata": {},
   "source": [
    "2009"
   ]
  },
  {
   "cell_type": "code",
   "execution_count": 112,
   "id": "7515e73a",
   "metadata": {},
   "outputs": [
    {
     "data": {
      "image/png": "[encoded data removed]",
      "text/plain": [
       "<Figure size 432x288 with 1 Axes>"
      ]
     },
     "metadata": {
      "needs_background": "light"
     },
     "output_type": "display_data"
    }
   ],
   "source": [
    "plt.scatter(gdp_int_09.GDP_Per_Capita, \n",
    "            gdp_int_09.Internet_Users_Pct)\n",
    "\n",
    "plt.title('GDP vs Internet Use: 2009')\n",
    "plt.xlabel('GDP Per Capita')\n",
    "plt.ylabel('Internet Use %');"
   ]
  },
  {
   "cell_type": "markdown",
   "id": "7a948d85",
   "metadata": {},
   "source": [
    "2014"
   ]
  },
  {
   "cell_type": "code",
   "execution_count": 113,
   "id": "057019a8",
   "metadata": {},
   "outputs": [
    {
     "data": {
      "image/png": "[encoded data removed]",
      "text/plain": [
       "<Figure size 432x288 with 1 Axes>"
      ]
     },
     "metadata": {
      "needs_background": "light"
     },
     "output_type": "display_data"
    }
   ],
   "source": [
    "plt.scatter(gdp_int_14.GDP_Per_Capita, \n",
    "            gdp_int_14.Internet_Users_Pct)\n",
    "\n",
    "plt.title('GDP vs Internet Use: 2014')\n",
    "plt.xlabel('GDP Per Capita')\n",
    "plt.ylabel('Internet Use %');"
   ]
  },
  {
   "cell_type": "markdown",
   "id": "7ad979e8",
   "metadata": {},
   "source": [
    "24. Are there differences across years? What do the plots tell you about any relationship between these two variables? Enter your observations as a markdown cell.\n",
    "Across all three years, there seems to be a significant relationship between internet usage and GDP per capita, especially on the lower end. If a country is very poor, it more than likely has a lower internet usage percentage. However, this relationship seems to become less significant over time as the internet becomes more accessible"
   ]
  },
  {
   "cell_type": "markdown",
   "id": "eb4d8c7e",
   "metadata": {},
   "source": [
    "25. Look at the distribution of gdp per capita values for 2014. Is it unimodal"
   ]
  },
  {
   "cell_type": "markdown",
   "id": "b99c86b5",
   "metadata": {},
   "source": [
    "Using plt"
   ]
  },
  {
   "cell_type": "code",
   "execution_count": 116,
   "id": "75fd83d0",
   "metadata": {},
   "outputs": [
    {
     "data": {
      "image/png": "[encoded data removed]",
      "text/plain": [
       "<Figure size 432x288 with 1 Axes>"
      ]
     },
     "metadata": {
      "needs_background": "light"
     },
     "output_type": "display_data"
    }
   ],
   "source": [
    "plt.hist(gdp_int_14.GDP_Per_Capita)\n",
    "plt.title(\"GDP Distribution, 2014\")\n",
    "plt.xlabel('GDP')\n",
    "plt.ylabel('Country Count');"
   ]
  },
  {
   "cell_type": "markdown",
   "id": "b6281eec",
   "metadata": {},
   "source": [
    "Using sns"
   ]
  },
  {
   "cell_type": "code",
   "execution_count": 117,
   "id": "d242e8f5",
   "metadata": {},
   "outputs": [
    {
     "data": {
      "image/png": "[encoded data removed]",
      "text/plain": [
       "<Figure size 432x288 with 1 Axes>"
      ]
     },
     "metadata": {
      "needs_background": "light"
     },
     "output_type": "display_data"
    }
   ],
   "source": [
    "sns.histplot(data=gdp_int_14, x=\"GDP_Per_Capita\")\n",
    "plt.title(\"GDP Distribution, 2014\")\n",
    "plt.xlabel('GDP')\n",
    "plt.ylabel('Country Count');"
   ]
  },
  {
   "cell_type": "markdown",
   "id": "4d0e41e8",
   "metadata": {},
   "source": [
    "Yes, it is unimodal (has one mode)\n",
    "\n",
    "26. Look at the distribution of Internet Use for 2014. Is it unimodal?"
   ]
  },
  {
   "cell_type": "code",
   "execution_count": 118,
   "id": "9e8a5054",
   "metadata": {},
   "outputs": [
    {
     "data": {
      "image/png": "[encoded data removed]",
      "text/plain": [
       "<Figure size 432x288 with 1 Axes>"
      ]
     },
     "metadata": {
      "needs_background": "light"
     },
     "output_type": "display_data"
    }
   ],
   "source": [
    "sns.histplot(data=gdp_int_14, x=\"Internet_Users_Pct\")\n",
    "plt.title(\"Internet Use, 2014\")\n",
    "plt.xlabel('Internet Use %')\n",
    "plt.ylabel('Country Count');"
   ]
  },
  {
   "cell_type": "markdown",
   "id": "45b90846",
   "metadata": {},
   "source": [
    "not unimodal"
   ]
  },
  {
   "cell_type": "markdown",
   "id": "79a1135e",
   "metadata": {},
   "source": [
    "27. What are the top 5 countries in terms of internet use in 2014?"
   ]
  },
  {
   "cell_type": "code",
   "execution_count": 119,
   "id": "67f72425",
   "metadata": {},
   "outputs": [
    {
     "data": {
      "text/html": [
       "<div>\n",
       "<style scoped>\n",
       "    .dataframe tbody tr th:only-of-type {\n",
       "        vertical-align: middle;\n",
       "    }\n",
       "\n",
       "    .dataframe tbody tr th {\n",
       "        vertical-align: top;\n",
       "    }\n",
       "\n",
       "    .dataframe thead th {\n",
       "        text-align: right;\n",
       "    }\n",
       "</style>\n",
       "<table border=\"1\" class=\"dataframe\">\n",
       "  <thead>\n",
       "    <tr style=\"text-align: right;\">\n",
       "      <th></th>\n",
       "      <th>Country</th>\n",
       "      <th>Year</th>\n",
       "      <th>GDP_Per_Capita</th>\n",
       "      <th>Internet_Users_Pct</th>\n",
       "      <th>Unnamed: 4</th>\n",
       "      <th>Unnamed: 5</th>\n",
       "    </tr>\n",
       "  </thead>\n",
       "  <tbody>\n",
       "    <tr>\n",
       "      <th>2803</th>\n",
       "      <td>Iceland</td>\n",
       "      <td>2014</td>\n",
       "      <td>50450.741612</td>\n",
       "      <td>98.16</td>\n",
       "      <td>NaN</td>\n",
       "      <td>NaN</td>\n",
       "    </tr>\n",
       "    <tr>\n",
       "      <th>645</th>\n",
       "      <td>Bermuda</td>\n",
       "      <td>2014</td>\n",
       "      <td>77361.104881</td>\n",
       "      <td>96.80</td>\n",
       "      <td>NaN</td>\n",
       "      <td>NaN</td>\n",
       "    </tr>\n",
       "    <tr>\n",
       "      <th>4880</th>\n",
       "      <td>Norway</td>\n",
       "      <td>2014</td>\n",
       "      <td>62390.130313</td>\n",
       "      <td>96.30</td>\n",
       "      <td>NaN</td>\n",
       "      <td>NaN</td>\n",
       "    </tr>\n",
       "    <tr>\n",
       "      <th>1561</th>\n",
       "      <td>Denmark</td>\n",
       "      <td>2014</td>\n",
       "      <td>52048.335493</td>\n",
       "      <td>95.99</td>\n",
       "      <td>NaN</td>\n",
       "      <td>NaN</td>\n",
       "    </tr>\n",
       "    <tr>\n",
       "      <th>6871</th>\n",
       "      <td>Andorra</td>\n",
       "      <td>2014</td>\n",
       "      <td>NaN</td>\n",
       "      <td>95.90</td>\n",
       "      <td>NaN</td>\n",
       "      <td>NaN</td>\n",
       "    </tr>\n",
       "  </tbody>\n",
       "</table>\n",
       "</div>"
      ],
      "text/plain": [
       "      Country  Year  GDP_Per_Capita  Internet_Users_Pct  Unnamed: 4  \\\n",
       "2803  Iceland  2014    50450.741612               98.16         NaN   \n",
       "645   Bermuda  2014    77361.104881               96.80         NaN   \n",
       "4880   Norway  2014    62390.130313               96.30         NaN   \n",
       "1561  Denmark  2014    52048.335493               95.99         NaN   \n",
       "6871  Andorra  2014             NaN               95.90         NaN   \n",
       "\n",
       "      Unnamed: 5  \n",
       "2803         NaN  \n",
       "645          NaN  \n",
       "4880         NaN  \n",
       "1561         NaN  \n",
       "6871         NaN  "
      ]
     },
     "execution_count": 119,
     "metadata": {},
     "output_type": "execute_result"
    }
   ],
   "source": [
    "t5_int_use_14 = gdp_int_14.nlargest(5, \"Internet_Users_Pct\")\n",
    "t5_int_use_14"
   ]
  },
  {
   "cell_type": "markdown",
   "id": "5f95c313",
   "metadata": {},
   "source": [
    "28. Create a DataFrame called top_5_internet from the combined DataFrame that has all three years for the 5 countries that had the greatest 2014 internet usage. You should have 15 rows. Check that this is true"
   ]
  },
  {
   "cell_type": "code",
   "execution_count": 120,
   "id": "48a6bffd",
   "metadata": {},
   "outputs": [
    {
     "name": "stdout",
     "output_type": "stream",
     "text": [
      "['Iceland', 'Bermuda', 'Norway', 'Denmark', 'Andorra']\n"
     ]
    }
   ],
   "source": [
    "top_internet_countries = t5_int_use_14.Country.tolist()\n",
    "print(top_internet_countries)"
   ]
  },
  {
   "cell_type": "code",
   "execution_count": 121,
   "id": "1ce34f66",
   "metadata": {},
   "outputs": [
    {
     "name": "stdout",
     "output_type": "stream",
     "text": [
      "      Country  Year  GDP_Per_Capita  Internet_Users_Pct  Unnamed: 4  \\\n",
      "645   Bermuda  2014    77361.104881           96.800000         NaN   \n",
      "650   Bermuda  2009    89961.982744           83.250000         NaN   \n",
      "655   Bermuda  2004    90195.811565           60.990867         NaN   \n",
      "1561  Denmark  2014    52048.335493           95.990000         NaN   \n",
      "1566  Denmark  2009    50114.050052           86.840000         NaN   \n",
      "1571  Denmark  2004    50446.541605           80.930000         NaN   \n",
      "2803  Iceland  2014    50450.741612           98.160000         NaN   \n",
      "2808  Iceland  2009    48770.950337           93.000000         NaN   \n",
      "2813  Iceland  2004    46051.743888           83.880000         NaN   \n",
      "4880   Norway  2014    62390.130313           96.300000         NaN   \n",
      "4885   Norway  2009    61689.558543           92.080000         NaN   \n",
      "4890   Norway  2004    60699.566582           77.690000         NaN   \n",
      "6871  Andorra  2014             NaN           95.900000         NaN   \n",
      "6876  Andorra  2009             NaN           78.530000         NaN   \n",
      "6881  Andorra  2004             NaN           26.837954         NaN   \n",
      "\n",
      "      Unnamed: 5  \n",
      "645          NaN  \n",
      "650          NaN  \n",
      "655          NaN  \n",
      "1561         NaN  \n",
      "1566         NaN  \n",
      "1571         NaN  \n",
      "2803         NaN  \n",
      "2808         NaN  \n",
      "2813         NaN  \n",
      "4880         NaN  \n",
      "4885         NaN  \n",
      "4890         NaN  \n",
      "6871         NaN  \n",
      "6876         NaN  \n",
      "6881         NaN  \n"
     ]
    }
   ],
   "source": [
    "top_5_internet = gdp_int_04_09_14[gdp_int_04_09_14.Country.isin(top_internet_countries)]\n",
    "print(top_5_internet)"
   ]
  },
  {
   "cell_type": "code",
   "execution_count": 122,
   "id": "8012e55b",
   "metadata": {},
   "outputs": [
    {
     "name": "stdout",
     "output_type": "stream",
     "text": [
      "      Country  Year  GDP_Per_Capita  Internet_Users_Pct  Unnamed: 4  \\\n",
      "645   Bermuda  2014    77361.104881           96.800000         NaN   \n",
      "650   Bermuda  2009    89961.982744           83.250000         NaN   \n",
      "655   Bermuda  2004    90195.811565           60.990867         NaN   \n",
      "1561  Denmark  2014    52048.335493           95.990000         NaN   \n",
      "1566  Denmark  2009    50114.050052           86.840000         NaN   \n",
      "1571  Denmark  2004    50446.541605           80.930000         NaN   \n",
      "2803  Iceland  2014    50450.741612           98.160000         NaN   \n",
      "2808  Iceland  2009    48770.950337           93.000000         NaN   \n",
      "2813  Iceland  2004    46051.743888           83.880000         NaN   \n",
      "4880   Norway  2014    62390.130313           96.300000         NaN   \n",
      "4885   Norway  2009    61689.558543           92.080000         NaN   \n",
      "4890   Norway  2004    60699.566582           77.690000         NaN   \n",
      "6871  Andorra  2014             NaN           95.900000         NaN   \n",
      "6876  Andorra  2009             NaN           78.530000         NaN   \n",
      "6881  Andorra  2004             NaN           26.837954         NaN   \n",
      "\n",
      "      Unnamed: 5  \n",
      "645          NaN  \n",
      "650          NaN  \n",
      "655          NaN  \n",
      "1561         NaN  \n",
      "1566         NaN  \n",
      "1571         NaN  \n",
      "2803         NaN  \n",
      "2808         NaN  \n",
      "2813         NaN  \n",
      "4880         NaN  \n",
      "4885         NaN  \n",
      "4890         NaN  \n",
      "6871         NaN  \n",
      "6876         NaN  \n",
      "6881         NaN  \n"
     ]
    }
   ],
   "source": [
    "top_5_internet_2 = gdp_int_04_09_14.query(\"Country in @top_internet_countries\")\n",
    "print(top_5_internet_2)"
   ]
  },
  {
   "cell_type": "markdown",
   "id": "40d36129",
   "metadata": {},
   "source": [
    "29. Create a seaborn FacetGrid to show the internet usage trend across the years 2004, 2009, and 2014 for these 5 countries (those with the highest reported internet use in 2014). Which country had the greatest growth between 2004 and 2014?"
   ]
  },
  {
   "cell_type": "code",
   "execution_count": 123,
   "id": "6b072d77",
   "metadata": {},
   "outputs": [
    {
     "data": {
      "image/png": "[encoded data removed]",
      "text/plain": [
       "<Figure size 1080x216 with 5 Axes>"
      ]
     },
     "metadata": {
      "needs_background": "light"
     },
     "output_type": "display_data"
    }
   ],
   "source": [
    "fg = sns.FacetGrid(top_5_internet, col = \"Country\")\n",
    "\n",
    "fg.map(plt.plot, \"Year\", \"Internet_Users_Pct\")\n",
    "fg.set_axis_labels(\"Year\", \"Internet User %\")\n",
    "fg.set_titles(col_template = \"{col_name}\");"
   ]
  },
  {
   "cell_type": "markdown",
   "id": "d2481897",
   "metadata": {},
   "source": [
    "Andorra had the greatest growth"
   ]
  },
  {
   "cell_type": "markdown",
   "id": "77ba7fe3",
   "metadata": {},
   "source": [
    "30.Repeat the steps above to look at the trend for the 5 countries with the lowest 2014 internet usage. Which country has consistently had the least internet use"
   ]
  },
  {
   "cell_type": "code",
   "execution_count": 124,
   "id": "82b63182",
   "metadata": {},
   "outputs": [
    {
     "name": "stdout",
     "output_type": "stream",
     "text": [
      "      Country  Year  GDP_Per_Capita  Internet_Users_Pct  Unnamed: 4  \\\n",
      "2803  Iceland  2014    50450.741612               98.16         NaN   \n",
      "645   Bermuda  2014    77361.104881               96.80         NaN   \n",
      "4880   Norway  2014    62390.130313               96.30         NaN   \n",
      "1561  Denmark  2014    52048.335493               95.99         NaN   \n",
      "6871  Andorra  2014             NaN               95.90         NaN   \n",
      "\n",
      "      Unnamed: 5  \n",
      "2803         NaN  \n",
      "645          NaN  \n",
      "4880         NaN  \n",
      "1561         NaN  \n",
      "6871         NaN  \n"
     ]
    }
   ],
   "source": [
    "b5_int_use_14 = gdp_int_14.nsmallest(5, \"Internet_Users_Pct\")\n",
    "print(t5_int_use_14)"
   ]
  },
  {
   "cell_type": "code",
   "execution_count": 125,
   "id": "c01ebc05",
   "metadata": {},
   "outputs": [
    {
     "name": "stdout",
     "output_type": "stream",
     "text": [
      "[\"Dem. People's Rep. of Korea\", 'Eritrea', 'Timor-Leste', 'Burundi', 'Somalia']\n"
     ]
    }
   ],
   "source": [
    "bottom_int_countries = b5_int_use_14.Country.tolist()\n",
    "print(bottom_int_countries)"
   ]
  },
  {
   "cell_type": "code",
   "execution_count": 126,
   "id": "796ddbde",
   "metadata": {},
   "outputs": [
    {
     "name": "stdout",
     "output_type": "stream",
     "text": [
      "      Country  Year  GDP_Per_Capita  Internet_Users_Pct  Unnamed: 4  \\\n",
      "645   Bermuda  2014    77361.104881           96.800000         NaN   \n",
      "650   Bermuda  2009    89961.982744           83.250000         NaN   \n",
      "655   Bermuda  2004    90195.811565           60.990867         NaN   \n",
      "1561  Denmark  2014    52048.335493           95.990000         NaN   \n",
      "1566  Denmark  2009    50114.050052           86.840000         NaN   \n",
      "1571  Denmark  2004    50446.541605           80.930000         NaN   \n",
      "2803  Iceland  2014    50450.741612           98.160000         NaN   \n",
      "2808  Iceland  2009    48770.950337           93.000000         NaN   \n",
      "2813  Iceland  2004    46051.743888           83.880000         NaN   \n",
      "4880   Norway  2014    62390.130313           96.300000         NaN   \n",
      "4885   Norway  2009    61689.558543           92.080000         NaN   \n",
      "4890   Norway  2004    60699.566582           77.690000         NaN   \n",
      "6871  Andorra  2014             NaN           95.900000         NaN   \n",
      "6876  Andorra  2009             NaN           78.530000         NaN   \n",
      "6881  Andorra  2004             NaN           26.837954         NaN   \n",
      "\n",
      "      Unnamed: 5  \n",
      "645          NaN  \n",
      "650          NaN  \n",
      "655          NaN  \n",
      "1561         NaN  \n",
      "1566         NaN  \n",
      "1571         NaN  \n",
      "2803         NaN  \n",
      "2808         NaN  \n",
      "2813         NaN  \n",
      "4880         NaN  \n",
      "4885         NaN  \n",
      "4890         NaN  \n",
      "6871         NaN  \n",
      "6876         NaN  \n",
      "6881         NaN  \n"
     ]
    }
   ],
   "source": [
    "bottom_5_internet = gdp_int_04_09_14[gdp_int_04_09_14.Country.isin(bottom_int_countries)]\n",
    "print(top_5_internet)"
   ]
  },
  {
   "cell_type": "code",
   "execution_count": 127,
   "id": "a3647d3f",
   "metadata": {},
   "outputs": [
    {
     "data": {
      "image/png": "[encoded data removed]",
      "text/plain": [
       "<Figure size 1080x216 with 5 Axes>"
      ]
     },
     "metadata": {
      "needs_background": "light"
     },
     "output_type": "display_data"
    }
   ],
   "source": [
    "fg = sns.FacetGrid(bottom_5_internet, col = \"Country\")\n",
    "\n",
    "fg.map(plt.plot, \"Year\", \"Internet_Users_Pct\")\n",
    "fg.set_axis_labels(\"Year\", \"Internet User %\")\n",
    "fg.set_titles(col_template = \"{col_name}\");"
   ]
  },
  {
   "cell_type": "markdown",
   "id": "e6ab70c6",
   "metadata": {},
   "source": [
    "Dem. People's Rep. of Korea"
   ]
  },
  {
   "cell_type": "markdown",
   "id": "aa527914",
   "metadata": {},
   "source": [
    "31. Find the top 5 countries for 2014 in terms of GDP per capita; create a DataFrame to look at 10-year trends (use 2004, 2009, 2014 to look at the 10-year trend) in gdp per capita for the 5 countries with the highest 2014 GDP per capita. Use a seaborn facet grid for this"
   ]
  },
  {
   "cell_type": "code",
   "execution_count": 128,
   "id": "bd5915bd",
   "metadata": {},
   "outputs": [
    {
     "name": "stdout",
     "output_type": "stream",
     "text": [
      "               Country  Year  GDP_Per_Capita  Internet_Users_Pct  Unnamed: 4  \\\n",
      "3919  Macao SAR, China  2014   155201.740571                 NaN         NaN   \n",
      "3888        Luxembourg  2014   113313.578898               94.67         NaN   \n",
      "5387             Qatar  2014    95578.261511               91.49         NaN   \n",
      "5726         Singapore  2014    87616.637527               82.00         NaN   \n",
      "645            Bermuda  2014    77361.104881               96.80         NaN   \n",
      "\n",
      "      Unnamed: 5  \n",
      "3919         NaN  \n",
      "3888         NaN  \n",
      "5387         NaN  \n",
      "5726         NaN  \n",
      "645          NaN  \n"
     ]
    }
   ],
   "source": [
    "t5_gdp_14 = gdp_int_14.nlargest(5, \"GDP_Per_Capita\")\n",
    "print(t5_gdp_14)"
   ]
  },
  {
   "cell_type": "code",
   "execution_count": 129,
   "id": "01c400a0",
   "metadata": {},
   "outputs": [
    {
     "name": "stdout",
     "output_type": "stream",
     "text": [
      "['Macao SAR, China', 'Luxembourg', 'Qatar', 'Singapore', 'Bermuda']\n"
     ]
    }
   ],
   "source": [
    "top_gdp_countries = t5_gdp_14.Country.tolist()\n",
    "print(top_gdp_countries)"
   ]
  },
  {
   "cell_type": "code",
   "execution_count": 130,
   "id": "0aa6f59d",
   "metadata": {},
   "outputs": [
    {
     "name": "stdout",
     "output_type": "stream",
     "text": [
      "               Country  Year  GDP_Per_Capita  Internet_Users_Pct  Unnamed: 4  \\\n",
      "645            Bermuda  2014    77361.104881           96.800000         NaN   \n",
      "650            Bermuda  2009    89961.982744           83.250000         NaN   \n",
      "655            Bermuda  2004    90195.811565           60.990867         NaN   \n",
      "3888        Luxembourg  2014   113313.578898           94.670000         NaN   \n",
      "3893        Luxembourg  2009   112230.081410           87.310000         NaN   \n",
      "3898        Luxembourg  2004   107634.837198           65.880000         NaN   \n",
      "3919  Macao SAR, China  2014   155201.740571                 NaN         NaN   \n",
      "3924  Macao SAR, China  2009    96493.793065                 NaN         NaN   \n",
      "3929  Macao SAR, China  2004    73322.928480                 NaN         NaN   \n",
      "5387             Qatar  2014    95578.261511           91.490000         NaN   \n",
      "5392             Qatar  2009    89954.846115           53.100000         NaN   \n",
      "5397             Qatar  2004    93748.550125           20.701648         NaN   \n",
      "5726         Singapore  2014    87616.637527           82.000000         NaN   \n",
      "5731         Singapore  2009    69430.484671           69.000000         NaN   \n",
      "5736         Singapore  2004    63862.123439           62.000000         NaN   \n",
      "\n",
      "      Unnamed: 5  \n",
      "645          NaN  \n",
      "650          NaN  \n",
      "655          NaN  \n",
      "3888         NaN  \n",
      "3893         NaN  \n",
      "3898         NaN  \n",
      "3919         NaN  \n",
      "3924         NaN  \n",
      "3929         NaN  \n",
      "5387         NaN  \n",
      "5392         NaN  \n",
      "5397         NaN  \n",
      "5726         NaN  \n",
      "5731         NaN  \n",
      "5736         NaN  \n"
     ]
    }
   ],
   "source": [
    "top_5_gdp = gdp_int_04_09_14[gdp_int_04_09_14.Country.isin(top_gdp_countries)]\n",
    "print(top_5_gdp)"
   ]
  },
  {
   "cell_type": "code",
   "execution_count": 131,
   "id": "95c8372a",
   "metadata": {},
   "outputs": [
    {
     "data": {
      "image/png": "[encoded data removed]",
      "text/plain": [
       "<Figure size 1080x216 with 5 Axes>"
      ]
     },
     "metadata": {
      "needs_background": "light"
     },
     "output_type": "display_data"
    }
   ],
   "source": [
    "fg = sns.FacetGrid(top_5_gdp, col = \"Country\")\n",
    "\n",
    "fg.map(plt.plot, \"Year\", \"GDP_Per_Capita\")\n",
    "fg.set_axis_labels(\"Year\", \"GDP per Cap\")\n",
    "fg.set_titles(col_template = \"{col_name}\");"
   ]
  },
  {
   "cell_type": "markdown",
   "id": "6cfb8ce3",
   "metadata": {},
   "source": [
    "32. Repeat this one more time to look at 10-year trend for the 5 countries for 2014 with the lowest GDP per capita"
   ]
  },
  {
   "cell_type": "code",
   "execution_count": 132,
   "id": "6058d094",
   "metadata": {},
   "outputs": [
    {
     "name": "stdout",
     "output_type": "stream",
     "text": [
      "                       Country  Year  GDP_Per_Capita  Internet_Users_Pct  \\\n",
      "1142  Central African Republic  2014      822.611195                 NaN   \n",
      "920                    Burundi  2014      886.235296                1.38   \n",
      "5877                   Somalia  2014      917.876549                1.63   \n",
      "1530           Dem. Rep. Congo  2014     1029.790813                 NaN   \n",
      "4756                     Niger  2014     1126.805440                1.95   \n",
      "\n",
      "      Unnamed: 4  Unnamed: 5  \n",
      "1142         NaN         NaN  \n",
      "920          NaN         NaN  \n",
      "5877         NaN         NaN  \n",
      "1530         NaN         NaN  \n",
      "4756         NaN         NaN  \n"
     ]
    }
   ],
   "source": [
    "b5_gdp_14 = gdp_int_14.nsmallest(5, \"GDP_Per_Capita\")\n",
    "print(b5_gdp_14)"
   ]
  },
  {
   "cell_type": "code",
   "execution_count": 133,
   "id": "8d30f3f9",
   "metadata": {},
   "outputs": [
    {
     "name": "stdout",
     "output_type": "stream",
     "text": [
      "['Central African Republic', 'Burundi', 'Somalia', 'Dem. Rep. Congo', 'Niger']\n"
     ]
    }
   ],
   "source": [
    "bottom_gdp_countries = b5_gdp_14.Country.tolist()\n",
    "print(bottom_gdp_countries)"
   ]
  },
  {
   "cell_type": "code",
   "execution_count": 134,
   "id": "9fd57c89",
   "metadata": {},
   "outputs": [
    {
     "name": "stdout",
     "output_type": "stream",
     "text": [
      "                       Country  Year  GDP_Per_Capita  Internet_Users_Pct  \\\n",
      "920                    Burundi  2014      886.235296            1.380000   \n",
      "925                    Burundi  2009      831.564843            0.900000   \n",
      "930                    Burundi  2004      817.461177            0.349060   \n",
      "1142  Central African Republic  2014      822.611195                 NaN   \n",
      "1147  Central African Republic  2009     1161.190011                 NaN   \n",
      "1152  Central African Republic  2004     1037.844670                 NaN   \n",
      "1530           Dem. Rep. Congo  2014     1029.790813                 NaN   \n",
      "1535           Dem. Rep. Congo  2009      835.611723                 NaN   \n",
      "1540           Dem. Rep. Congo  2004      757.686099                 NaN   \n",
      "4756                     Niger  2014     1126.805440            1.950000   \n",
      "4761                     Niger  2009      991.698425            0.760000   \n",
      "4766                     Niger  2004      929.217222            0.189934   \n",
      "5877                   Somalia  2014      917.876549            1.630000   \n",
      "7698                   Somalia  2009             NaN            1.160611   \n",
      "7703                   Somalia  2004             NaN            1.053455   \n",
      "\n",
      "      Unnamed: 4  Unnamed: 5  \n",
      "920          NaN         NaN  \n",
      "925          NaN         NaN  \n",
      "930          NaN         NaN  \n",
      "1142         NaN         NaN  \n",
      "1147         NaN         NaN  \n",
      "1152         NaN         NaN  \n",
      "1530         NaN         NaN  \n",
      "1535         NaN         NaN  \n",
      "1540         NaN         NaN  \n",
      "4756         NaN         NaN  \n",
      "4761         NaN         NaN  \n",
      "4766         NaN         NaN  \n",
      "5877         NaN         NaN  \n",
      "7698         NaN         NaN  \n",
      "7703         NaN         NaN  \n"
     ]
    }
   ],
   "source": [
    "bottom_5_gdp = gdp_int_04_09_14[gdp_int_04_09_14.Country.isin(bottom_gdp_countries)]\n",
    "print(bottom_5_gdp)"
   ]
  },
  {
   "cell_type": "code",
   "execution_count": 135,
   "id": "65655f96",
   "metadata": {},
   "outputs": [
    {
     "data": {
      "image/png": "[encoded data removed]",
      "text/plain": [
       "<Figure size 1080x216 with 5 Axes>"
      ]
     },
     "metadata": {
      "needs_background": "light"
     },
     "output_type": "display_data"
    }
   ],
   "source": [
    "fg = sns.FacetGrid(bottom_5_gdp, col = \"Country\")\n",
    "\n",
    "fg.map(plt.plot, \"Year\", \"GDP_Per_Capita\")\n",
    "fg.set_axis_labels(\"Year\", \"GDP per Cap\")\n",
    "fg.set_titles(col_template = \"{col_name}\");"
   ]
  },
  {
   "cell_type": "code",
   "execution_count": null,
   "id": "c07a2e65",
   "metadata": {},
   "outputs": [],
   "source": []
  }
 ],
 "metadata": {
  "kernelspec": {
   "display_name": "Python 3 (ipykernel)",
   "language": "python",
   "name": "python3"
  },
  "language_info": {
   "codemirror_mode": {
    "name": "ipython",
    "version": 3
   },
   "file_extension": ".py",
   "mimetype": "text/x-python",
   "name": "python",
   "nbconvert_exporter": "python",
   "pygments_lexer": "ipython3",
   "version": "3.9.12"
  }
 },
 "nbformat": 4,
 "nbformat_minor": 5
}
